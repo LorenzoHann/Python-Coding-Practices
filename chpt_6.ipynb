{
 "cells": [
  {
   "cell_type": "code",
   "execution_count": 1,
   "id": "51992c6b",
   "metadata": {},
   "outputs": [],
   "source": [
    "#6.2 dictionaries,放在花括号{}的键值对，使用键来访问相关联的值，任何都可以作为字典中的值\n",
    "#创建字典的时候在最后一个键值对的后面带上，也没有问题，为添加下一个键值对做准备"
   ]
  },
  {
   "cell_type": "code",
   "execution_count": 3,
   "id": "72063258",
   "metadata": {},
   "outputs": [
    {
     "name": "stdout",
     "output_type": "stream",
     "text": [
      "Original position: 0\n",
      "New position: 2\n"
     ]
    }
   ],
   "source": [
    "#一个例子\n",
    "alien_0 = {'x_position': 0, 'y_position': 25, 'speed': 'medium'}\n",
    "print(f\"Original position: {alien_0['x_position']}\")\n",
    "\n",
    "if alien_0['speed'] == 'slow':\n",
    "        x_increment = 1\n",
    "elif alien_0['speed'] == 'medium':\n",
    "        x_increment = 2\n",
    "else:\n",
    "        x_increment = 3       \n",
    "alien_0['x_position'] = alien_0['x_position'] + x_increment\n",
    "print(f\"New position: {alien_0['x_position']}\")"
   ]
  },
  {
   "cell_type": "code",
   "execution_count": 4,
   "id": "c00b4cde",
   "metadata": {},
   "outputs": [
    {
     "name": "stdout",
     "output_type": "stream",
     "text": [
      "not registered\n"
     ]
    }
   ],
   "source": [
    "#也可以用del永久删除，eg: del alien_0['speed']\n",
    "#可使用方法 get()在指定的键【不存在时返回】一个默认值，用一般的方括号访问方法，若不存在会报错\n",
    "test = {'gmat':770,'gre':338,'toefl':120}\n",
    "print(test.get('lsat','not registered')) #get如果没有指定第二个参数，不存在将返回None"
   ]
  },
  {
   "cell_type": "code",
   "execution_count": 6,
   "id": "5aa01d01",
   "metadata": {},
   "outputs": [
    {
     "name": "stdout",
     "output_type": "stream",
     "text": [
      "{'first_name': 'selina', 'last_name': 'liu', 'age': 36, 'city': 'wuhan'}\n"
     ]
    }
   ],
   "source": [
    "#6-1\n",
    "selina = {'first_name':'selina','last_name':'liu','age':36,'city':'wuhan'}\n",
    "print(selina)"
   ]
  },
  {
   "cell_type": "code",
   "execution_count": 7,
   "id": "fa920605",
   "metadata": {},
   "outputs": [
    {
     "name": "stdout",
     "output_type": "stream",
     "text": [
      "7\n"
     ]
    }
   ],
   "source": [
    "#6-2\n",
    "numbers= {'selina':1116,'jerry':1977,'kiki':7,'lolo':36}\n",
    "print(numbers['kiki'])"
   ]
  },
  {
   "cell_type": "code",
   "execution_count": 9,
   "id": "3ca2b820",
   "metadata": {},
   "outputs": [
    {
     "name": "stdout",
     "output_type": "stream",
     "text": [
      "Fling: Love Galore\n"
     ]
    }
   ],
   "source": [
    "#6-3\n",
    "random = {'get':'default none','pop':'can specify which seq','fling':'love galore'}\n",
    "\n",
    "print(f\"Fling: {random['fling'].title()}\") #稍微注意一下单双引号的问题，不然容易出错"
   ]
  },
  {
   "cell_type": "code",
   "execution_count": null,
   "id": "bc5c3db8",
   "metadata": {},
   "outputs": [],
   "source": [
    "#6.3 遍历字典\n",
    "#遍历键值对用items()；遍历键用keys()【其实不用keys的时候就是默认的遍历键】；遍历值用values()\n",
    "favorite_languages = {\n",
    "      'jen': 'python',\n",
    "      'sarah': 'c',\n",
    "      'edward': 'ruby',\n",
    "      'phil': 'python',\n",
    "      }\n",
    "friends = ['phil', 'sarah']\n",
    "\n",
    "for name in favorite_languages.keys(): #先遍历字典\n",
    "      print(f\"Hi {name.title()}.\")\n",
    "        \n",
    "if name in friends: #看字典的key是否存在在下面的list中\n",
    "    language = favorite_languages[name].title()\n",
    "    print(f\"\\t{name.title()}, I see you love {language}!\")"
   ]
  },
  {
   "cell_type": "code",
   "execution_count": null,
   "id": "dfcc4246",
   "metadata": {},
   "outputs": [],
   "source": [
    "#要以特定顺序返回元素，一种办法是在for循环中对返回的键进行排序。\n",
    "#为此，可使用函数sorted()来获得按特定顺序排列的键列表的副本:\n",
    "#比如：for name in sorted(favorite_languages.keys()):"
   ]
  },
  {
   "cell_type": "code",
   "execution_count": 6,
   "id": "0e629917",
   "metadata": {},
   "outputs": [
    {
     "name": "stdout",
     "output_type": "stream",
     "text": [
      "{'python', 'c', 'ruby'}\n"
     ]
    }
   ],
   "source": [
    "#遍历值用values()的一些concerns\n",
    "#用values做法提取字典中所有的值，没有考虑是否重复。如果被调查者很多，最终的列表可能包含大量重复项。\n",
    "#为剔除重复项，可使用集合(set)。集合中的每个元素都必须是独一无二的:\n",
    "#for language in set(favorite_languages.values()):\n",
    "#可使用一对花括号直接创建集合，并在其中用逗号分隔元素：\n",
    "languages = {'python', 'ruby', 'python', 'c'}\n",
    "print(languages)\n",
    "#【集合set】和【字典dict】很容易混淆，因为它们【都是用一对花括号】定义的。当花\n",
    "#括号内没有键值对时，定义的很可能是集合。不同于列表和字典，\n",
    "#集合不会以特定的顺序存储元素。"
   ]
  },
  {
   "cell_type": "code",
   "execution_count": null,
   "id": "83922c1d",
   "metadata": {},
   "outputs": [],
   "source": [
    "#6-4\n",
    "songs = {'sza':'love galore',\n",
    "        'doja cat':'kiss me more',\n",
    "        'future':'relationships',\n",
    "        'juice wrld':'fine china',}\n",
    "for artist,song in songs.items():\n",
    "    print(f\"{song.title()} is {artist.title()}'s work. \")\n"
   ]
  },
  {
   "cell_type": "code",
   "execution_count": null,
   "id": "9da72eb7",
   "metadata": {},
   "outputs": [],
   "source": [
    "#6-5\n",
    "geo = {'nile':'egypt',\n",
    "      'yangtz river':'china',\n",
    "      'long river':'china',}\n",
    "for river,cn in geo.items():\n",
    "    print(f\" The {river.title()} runs through {cn.title()}.\")\n",
    "for value in set(geo.values()):\n",
    "    print(value.title())"
   ]
  },
  {
   "cell_type": "code",
   "execution_count": null,
   "id": "f7796015",
   "metadata": {},
   "outputs": [],
   "source": [
    "#6-6\n",
    "songs = {'sza':'love galore',\n",
    "        'doja cat':'kiss me more',\n",
    "        'future':'relationships',\n",
    "        'juice wrld':'fine china',}\n",
    "invited = ['sza','doja cat','riri','queen b']\n",
    "\n",
    "for person,song in songs.items():\n",
    "    if person in invited:\n",
    "        print(f\"Double bam {person.title()}!\")\n",
    "    else:\n",
    "        print(f\"{person.title()},sorry man.\")\n",
    "    "
   ]
  },
  {
   "cell_type": "code",
   "execution_count": null,
   "id": "92057c26",
   "metadata": {},
   "outputs": [],
   "source": [
    "for person in invited:\n",
    "    if person in songs.keys():\n",
    "        print(f\"Double bam {person.title()}!\")\n",
    "    else:\n",
    "        print(f\"{person.title()},sorry man.\")"
   ]
  },
  {
   "cell_type": "code",
   "execution_count": null,
   "id": "f38a1a6b",
   "metadata": {},
   "outputs": [],
   "source": [
    "#6.4嵌套 nested\n",
    "#字典列表 - dict in a list\n",
    "alien_0 = {'color': 'green', 'points': 5}\n",
    "alien_1 = {'color': 'yellow', 'points': 10}\n",
    "alien_2 = {'color': 'red', 'points': 15}\n",
    "aliens = [alien_0, alien_1, alien_2]"
   ]
  },
  {
   "cell_type": "code",
   "execution_count": null,
   "id": "15b8b350",
   "metadata": {},
   "outputs": [],
   "source": [
    "aliens = []\n",
    "for alien_number in range(30):#range()返回一系列数，其唯一的用途是告诉Python要【重复这个循环多少次】。\n",
    "    new_alien = {'color': 'green', 'points': 5, 'speed': 'slow'}\n",
    "    aliens.append(new_alien)\n",
    "\n",
    "for alien in aliens[:5]:\n",
    "                  print(alien)\n",
    "print(len(aliens))"
   ]
  },
  {
   "cell_type": "code",
   "execution_count": 21,
   "id": "9891f3e1",
   "metadata": {},
   "outputs": [
    {
     "name": "stdout",
     "output_type": "stream",
     "text": [
      "\n",
      "Jen's favorite languages are:\n",
      "\tPython\n",
      "\tRuby\n",
      "\n",
      "Sarah's favorite languages are:\n",
      "\tC\n",
      "\n",
      "Edward's favorite languages are:\n",
      "\tRuby\n",
      "\tGo\n",
      "\n",
      "Phil's favorite languages are:\n",
      "\tPython\n",
      "\tHaskell\n"
     ]
    }
   ],
   "source": [
    "#列表字典 - list in a dict\n",
    "#每当需要在字典中将一个键关联到多个值时，都可以在字典中嵌套一个列表。\n",
    "favorite_languages = {\n",
    "         'jen': ['python', 'ruby'],\n",
    "      'sarah': ['c'],\n",
    "      'edward': ['ruby', 'go'],\n",
    "      'phil': ['python', 'haskell'],\n",
    "      }\n",
    "for name, languages in favorite_languages.items():\n",
    "    print(f\"\\n{name.title()}'s favorite languages are:\")\n",
    "    for language in languages:\n",
    "        print(f\"\\t{language.title()}\")"
   ]
  },
  {
   "cell_type": "code",
   "execution_count": null,
   "id": "7ee0b00a",
   "metadata": {},
   "outputs": [],
   "source": [
    "#还可以dict in a dict  - 类似json objects"
   ]
  },
  {
   "cell_type": "code",
   "execution_count": 18,
   "id": "457baa24",
   "metadata": {},
   "outputs": [
    {
     "name": "stdout",
     "output_type": "stream",
     "text": [
      "{'first_name': 'selina', 'last_name': 'liu', 'age': 36, 'city': 'wuhan'}\n",
      "{'first_name': 'fei', 'last_name': 'wang', 'age': 37, 'city': 'shanghai'}\n",
      "{'first_name': 'jinjing', 'last_name': 'wu', 'age': 50, 'city': 'wuhan'}\n"
     ]
    }
   ],
   "source": [
    "#6-7\n",
    "selina = {'first_name':'selina','last_name':'liu','age':36,'city':'wuhan'}\n",
    "fei = {'first_name':'fei','last_name':'wang','age':37,'city':'shanghai'}\n",
    "jinjing = {'first_name':'jinjing','last_name':'wu','age':50,'city':'wuhan'}\n",
    "people = [selina,fei,jinjing]\n",
    "\n",
    "for info in people:\n",
    "    print(info)"
   ]
  },
  {
   "cell_type": "code",
   "execution_count": null,
   "id": "da769b60",
   "metadata": {},
   "outputs": [],
   "source": [
    "#6-8\n",
    "pet1 = {'color':'black','owner':'ziwi'}\n",
    "pet2={'color':'white','owner':'selina'}\n",
    "pet3={'color':'black','owner':'lolo'}\n",
    "pets = [pet1,pet2,pet3]\n",
    "for item in pets:\n",
    "    print(item)"
   ]
  },
  {
   "cell_type": "code",
   "execution_count": null,
   "id": "1eede1db",
   "metadata": {},
   "outputs": [],
   "source": [
    "#6-9\n",
    "fav_places = {'lolo':['wuhan','macau','nyc','sh'],\n",
    "             'melrose':['sh','wuhan','nyc','hk'],\n",
    "             'fei':['boston','sh']}\n",
    "for k,v in fav_places.items():\n",
    "    print(f\"{k.title()}'s fav places are:\")\n",
    "    for vs in v:\n",
    "        print(vs.title())"
   ]
  },
  {
   "cell_type": "code",
   "execution_count": null,
   "id": "05fca47f",
   "metadata": {},
   "outputs": [],
   "source": [
    "#6-10\n",
    "numbers= {'selina':[1116,16],'jerry':[1977,77],'kiki':[7],'lolo':[36,6]}\n",
    "for k,v in numbers.items():\n",
    "    print(f\"{k.title()}'s fav numbers are:\")\n",
    "    for item in v:\n",
    "        print(item)"
   ]
  },
  {
   "cell_type": "code",
   "execution_count": 28,
   "id": "d4fe8933",
   "metadata": {},
   "outputs": [
    {
     "name": "stdout",
     "output_type": "stream",
     "text": [
      "Wuhan is China's city. It has 13 ppl and it is my hometown ideally.\n",
      "Nyc is Usa's city. It has 4 ppl and it is my workplace hopefully ideally.\n",
      "Sh is China's city. It has 0.1 ppl and it is my frequently patronized place ideally.\n"
     ]
    }
   ],
   "source": [
    "#6-11\n",
    "cities = {'wuhan':{'country':'china','popu':13,'fact':'hometown'},\n",
    "         'nyc':{'country':'usa','popu':4,'fact':'workplace hopefully'},\n",
    "         'sh':{'country':'china','popu':0.1,'fact':'frequently patronized place'}}\n",
    "for k,v in cities.items():\n",
    "    print(f\"{k.title()} is {v['country'].title()}'s city. It has {v['popu']} ppl and it is my {v['fact']} ideally.\")"
   ]
  },
  {
   "cell_type": "code",
   "execution_count": null,
   "id": "f50e2895",
   "metadata": {},
   "outputs": [],
   "source": [
    "#6-12\n",
    "numbers= {'selina':[1116,16],'jerry':[1977,77],'kiki':[7],'lolo':[36,6]}\n",
    "for k,v in numbers.items():\n",
    "    if len(v)>1:\n",
    "        print(f\"{k.title()}'s fav numbers are:\")\n",
    "        for item in v:\n",
    "            print(item)\n",
    "    else:\n",
    "        print(f\"{k.title()}'s fav number is:\")#修改了单数的时候的语法\n",
    "        for item in v:\n",
    "            print(item)"
   ]
  },
  {
   "cell_type": "code",
   "execution_count": null,
   "id": "4338ef8b",
   "metadata": {},
   "outputs": [],
   "source": []
  }
 ],
 "metadata": {
  "kernelspec": {
   "display_name": "Python 3 (ipykernel)",
   "language": "python",
   "name": "python3"
  },
  "language_info": {
   "codemirror_mode": {
    "name": "ipython",
    "version": 3
   },
   "file_extension": ".py",
   "mimetype": "text/x-python",
   "name": "python",
   "nbconvert_exporter": "python",
   "pygments_lexer": "ipython3",
   "version": "3.10.1"
  }
 },
 "nbformat": 4,
 "nbformat_minor": 5
}
