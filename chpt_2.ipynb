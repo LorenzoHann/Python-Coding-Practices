{
 "cells": [
  {
   "cell_type": "code",
   "execution_count": null,
   "id": "cd7f4b7b",
   "metadata": {},
   "outputs": [],
   "source": [
    "#2-1,2-2"
   ]
  },
  {
   "cell_type": "code",
   "execution_count": null,
   "id": "c110d1b4",
   "metadata": {},
   "outputs": [],
   "source": [
    "message = 'whatsup'\n",
    "print(message)"
   ]
  },
  {
   "cell_type": "code",
   "execution_count": null,
   "id": "46384cf1",
   "metadata": {},
   "outputs": [],
   "source": [
    "message = 'crash course'\n",
    "print(message)"
   ]
  },
  {
   "cell_type": "code",
   "execution_count": null,
   "id": "eb8e2289",
   "metadata": {},
   "outputs": [],
   "source": [
    "message = 'shes so noisy'\n",
    "print(message)"
   ]
  },
  {
   "cell_type": "code",
   "execution_count": null,
   "id": "70bcb63b",
   "metadata": {},
   "outputs": [],
   "source": [
    "#2.3.1\n",
    "#每个方法后面都跟着一对圆括号，这是因为方法通常需要额外的信息来完成其工作。\n",
    "#这种信息是在圆括号内提供的。函数title()不需要额外的信息，因此它后面 的圆括号是空的。"
   ]
  },
  {
   "cell_type": "code",
   "execution_count": null,
   "id": "481185d9",
   "metadata": {},
   "outputs": [],
   "source": [
    "name = 'lorenzo'\n",
    "print(name.title()) #只是首字母大写\n",
    "print(name.upper()) #全部字母大写\n",
    "print(name.lower())"
   ]
  },
  {
   "cell_type": "code",
   "execution_count": null,
   "id": "b318f0ce",
   "metadata": {},
   "outputs": [],
   "source": [
    "#2.3.2\n",
    "#在字符串中使用变量的值\n",
    "first_name = \"lorenzo\"\n",
    "last_name = \"han\"\n",
    "full_name = f\"{first_name.title()} {last_name.title()}\"\n",
    "#这种字符串名为f字符串,f是format(设置格式)的简写\n",
    "print(full_name)"
   ]
  },
  {
   "cell_type": "code",
   "execution_count": null,
   "id": "44d5b30e",
   "metadata": {},
   "outputs": [],
   "source": [
    "#2.3.3\n",
    "#添加空白\n",
    "#要在字符串中添加制表符，可使用字符组合\\t(tab)，\n",
    "#要在字符串中添加换行符，可使用字符组合\\n(next)\n",
    "print('python r sql')\n",
    "print('\\tpython\\tr\\tsql')\n",
    "print('python\\nr\\nsql')\n",
    "print('\\n\\tpython\\n\\tr\\n\\tsql')\n",
    "print('\\npython')"
   ]
  },
  {
   "cell_type": "code",
   "execution_count": null,
   "id": "11ceb693",
   "metadata": {},
   "outputs": [],
   "source": [
    "#2.3.4\n",
    "#空白很重要，因为你经常需要比较两个字符串是否相同\n",
    "#要确保字符串[开头末尾]没有空白，可使用方法rstrip()【lstrip(),strip()】\n",
    "#但是这个删除只是暂时的，永久删除需要关联变量\n",
    "#注意一下引号问题和’s的问题，会让python不知道什么是字符串结束的位置"
   ]
  },
  {
   "cell_type": "code",
   "execution_count": null,
   "id": "5ce8b4e2",
   "metadata": {},
   "outputs": [],
   "source": [
    "#2-2 ~ 2-7"
   ]
  },
  {
   "cell_type": "code",
   "execution_count": null,
   "id": "0acc5a4b",
   "metadata": {},
   "outputs": [],
   "source": [
    "name = 'lorenzo'\n",
    "print(f\"Hey {name.title()}, how's everything going?\")\n",
    "print(name.upper());print(name.lower())\n",
    "name = 'lorenzo'\n",
    "msg = 'family above all.'\n",
    "print(f\"{name.title()} says:'{msg.title()}'\")\n",
    "\n",
    "name_w_space = '\\tlorenzo\\t'\n",
    "print(name_w_space)\n",
    "print(name_w_space.rstrip())\n",
    "print(name_w_space.lstrip())\n",
    "print(name_w_space.strip())"
   ]
  },
  {
   "cell_type": "code",
   "execution_count": 35,
   "id": "18d05cad",
   "metadata": {},
   "outputs": [
    {
     "name": "stdout",
     "output_type": "stream",
     "text": [
      "14000000000\n"
     ]
    }
   ],
   "source": [
    "#2.4\n",
    "#注意乘方是**，空格不影响运算方式，注意float结果包含的小数位数可能不确定\n",
    "#将任意两个数相除时，结果总是浮点数，即便这两个数都是整数且能整除\n",
    "#书写很大的数时，可使用下划线将其中的数字分组，使其更清晰易读，python不会打印下划线\n",
    "#不是以三个数字分组也不会影响最终的值\n",
    "universe_age = 14_000_000_000\n",
    "print(universe_age)\n",
    "#可在一行代码中给多个变量赋值\n",
    "x, y, z = 0, 0, 0"
   ]
  },
  {
   "cell_type": "code",
   "execution_count": null,
   "id": "96d4bea3",
   "metadata": {},
   "outputs": [],
   "source": [
    "#2-8，2-9\n",
    "print(1+7);print(9-1);print(2*4);print(8/1);print(2**3)\n",
    "\n",
    "fav = 36\n",
    "print(f\"My favorite number is {fav}.\")"
   ]
  },
  {
   "cell_type": "code",
   "execution_count": null,
   "id": "4ad17743",
   "metadata": {},
   "outputs": [],
   "source": [
    "#2.5\n",
    "import this"
   ]
  },
  {
   "cell_type": "code",
   "execution_count": null,
   "id": "5cd81164",
   "metadata": {},
   "outputs": [],
   "source": []
  }
 ],
 "metadata": {
  "kernelspec": {
   "display_name": "Python 3 (ipykernel)",
   "language": "python",
   "name": "python3"
  },
  "language_info": {
   "codemirror_mode": {
    "name": "ipython",
    "version": 3
   },
   "file_extension": ".py",
   "mimetype": "text/x-python",
   "name": "python",
   "nbconvert_exporter": "python",
   "pygments_lexer": "ipython3",
   "version": "3.10.1"
  }
 },
 "nbformat": 4,
 "nbformat_minor": 5
}
