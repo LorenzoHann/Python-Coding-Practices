{
 "cells": [
  {
   "cell_type": "code",
   "execution_count": null,
   "id": "bbb1d0e0",
   "metadata": {},
   "outputs": [],
   "source": [
    "#7.1\n",
    "#函数input()让程序暂停运行，等待用户输入一些文本。获取用户输入\n",
    "#后，Python将其赋给一个变量，以方便你使用。\n",
    "message = input(\"Tell me something, and I will repeat it back to you: \")\n",
    "print(message)\n",
    "#函数input()接受一个参数——要向用户显示的提示(prompt)或说 明，让用户知道该如何做。\n",
    "#程序等待用户输入，并在用户按回车键后继续运行。\n",
    "#输入被赋给变量message，接下来的print(message)将输入呈现给用户"
   ]
  },
  {
   "cell_type": "code",
   "execution_count": null,
   "id": "7c1c41f4",
   "metadata": {},
   "outputs": [],
   "source": [
    "height = input(\"How tall are you, in inches? \")\n",
    "height = int(height) #如果是输入的数字那么要先转化一下，不然字符串不能用来跟下面的48来进行比较\n",
    "if height >= 48:\n",
    "    print(\"\\nYou're tall enough to ride!\")\n",
    "else:\n",
    "    print(\"\\nYou'll be able to ride when you're a little older.\")"
   ]
  },
  {
   "cell_type": "code",
   "execution_count": null,
   "id": "f0435098",
   "metadata": {},
   "outputs": [],
   "source": [
    "#求余数，求模运算 % modular，可以使用它来判断是奇数还是偶数。"
   ]
  },
  {
   "cell_type": "code",
   "execution_count": 3,
   "id": "c0acd75c",
   "metadata": {},
   "outputs": [
    {
     "name": "stdout",
     "output_type": "stream",
     "text": [
      "What kind of whip do you want?Rollsroyce\n",
      "Ok, I will find you a Rollsroyce. \n"
     ]
    }
   ],
   "source": [
    "#7-1\n",
    "car = input('What kind of whip do you want?')\n",
    "print(f'Ok, I will find you a {car.title()}. ')"
   ]
  },
  {
   "cell_type": "code",
   "execution_count": null,
   "id": "4a930e05",
   "metadata": {},
   "outputs": [],
   "source": [
    "#7-2\n",
    "num = input('How many ppl do you have?')\n",
    "num = int(num)\n",
    "if num > 8:\n",
    "    print('SRY, we dont have such big table.')\n",
    "else:\n",
    "    print('Common in.')"
   ]
  },
  {
   "cell_type": "code",
   "execution_count": 22,
   "id": "828a0b5e",
   "metadata": {},
   "outputs": [
    {
     "name": "stdout",
     "output_type": "stream",
     "text": [
      "I can tell u whether it is a multiple of 10.20\n",
      "Bam!\n"
     ]
    }
   ],
   "source": [
    "#7-3\n",
    "num = input('I can tell u whether it is a multiple of 10.')\n",
    "num = int(num)\n",
    "if num%10==0:\n",
    "    print('Bam!')\n",
    "else:\n",
    "    print('oh nooo!')"
   ]
  },
  {
   "cell_type": "code",
   "execution_count": null,
   "id": "3a932282",
   "metadata": {},
   "outputs": [],
   "source": [
    "#7.2 while循环\n",
    "#for循环用于针对集合中的【每个元素都执行一个代码块】，\n",
    "#而while循环则不断运行，【直到指定的条件不满足为止】。\n",
    "❶ prompt = \"\\nTell me something, and I will repeat it back to you:\"\n",
    "  prompt += \"\\nEnter 'quit' to end the program. \"\n",
    "❷ message = \"\"\n",
    "❸ while message != 'quit':\n",
    "      message = input(prompt)\n",
    "      print(message)\n",
    "#❶处定义了一条提示消息，告诉用户有两个选择:要么输入一条消息，要么输入退出值(这里为'quit')。\n",
    "#接下来，创建变量message(见 ❷)，用于记录用户输入的值。\n",
    "#我们将变量message的初始值设置为空 字符串\"\"，让Python首次执行while代码行时有可供检查的东西。\n",
    "#Python首次执行while语句时，需要将message的值与'quit'进行比较，但此时用户还没有输入。\n",
    "#如果没有可供比较的东西，Python将无法继续运行程序。为解决这个问题，必须给变量message指定初始值。\n",
    "#虽然这个初始值只是一个空字符串，但符合要求能够让Python执行while循环所需的比较。\n",
    "#只要message的值不是'quit'，这个循环 (见❸)就会不断运行。    "
   ]
  },
  {
   "cell_type": "code",
   "execution_count": null,
   "id": "c1fa6d02",
   "metadata": {},
   "outputs": [],
   "source": [
    "prompt = \"\\nTell me something, and I will repeat it back to you:\"\n",
    "prompt += \"\\nEnter 'quit' to end the program. \"\n",
    "message = \"\"\n",
    "while message != 'quit':\n",
    "    message = input(prompt)\n",
    "    print(message) #但是当想结束的时候quit也会成为一条消息打出来"
   ]
  },
  {
   "cell_type": "code",
   "execution_count": null,
   "id": "e813f9e7",
   "metadata": {},
   "outputs": [],
   "source": [
    "#把两个prompt合并在一起是一样的\n",
    "prompt = \"\\nTell me something, and I will repeat it back to you:\\nEnter 'quit' to end the program. \"\n",
    "message = \"\"\n",
    "while message != 'quit':\n",
    "    message = input(prompt)\n",
    "    print(message) #但是当想结束的时候quit也会成为一条消息打出来"
   ]
  },
  {
   "cell_type": "code",
   "execution_count": null,
   "id": "c2601422",
   "metadata": {},
   "outputs": [],
   "source": [
    "prompt = \"\\nTell me something, and I will repeat it back to you:\"\n",
    "prompt += \"\\nEnter 'quit' to end the program. \"\n",
    "message = \"\"\n",
    "while message != 'quit':\n",
    "    message = input(prompt)\n",
    "    if message != 'quit': #加了这个步骤以后再print\n",
    "        print(message)"
   ]
  },
  {
   "cell_type": "code",
   "execution_count": null,
   "id": "1f354785",
   "metadata": {},
   "outputs": [],
   "source": [
    "#真实情况下不会只有这一种情况中断这个程序\n",
    "#在要求很多条件都满足才继续运行的程序中，可定义一个变量，用于判断整个程序是否处于活动状态。\n",
    "#这个变量称为标志(flag)，充当程序的交通信号灯。\n",
    "#可以让程序在标志为True时继续运行，并在任何事件导致标志的值为False时让程序停止运行。"
   ]
  },
  {
   "cell_type": "code",
   "execution_count": null,
   "id": "cfa6cf57",
   "metadata": {},
   "outputs": [],
   "source": [
    "prompt = \"\\nTell me something, and I will repeat it back to you:\"\n",
    "prompt += \"\\nEnter 'quit' to end the program. \"\n",
    "\n",
    "active = True #这个active其实你可以指定任意名字\n",
    "while active: \n",
    "    message = input(prompt)\n",
    "    if message == 'quit':\n",
    "        active = False #如果键入的是quit的话那么就不活跃了\n",
    "    else:\n",
    "          print(message)"
   ]
  },
  {
   "cell_type": "code",
   "execution_count": null,
   "id": "a7b6dee8",
   "metadata": {},
   "outputs": [],
   "source": [
    "#使用break退出循环，在任何python循环中都可以使用break语句\n",
    "#要立即退出while循环，不再运行循环中余下的代码，也不管条件测试的结果如何，可使用break语句。\n",
    "prompt = \"\\nPlease enter the name of a city you have visited:\"\n",
    "prompt += \"\\n(Enter 'quit' when you are finished.) \"\n",
    "while True:\n",
    "    city = input(prompt)\n",
    "    if city == 'quit':\n",
    "        break\n",
    "    else:\n",
    "        print(f\"I'd love to go to {city.title()}!\")"
   ]
  },
  {
   "cell_type": "code",
   "execution_count": null,
   "id": "0590726b",
   "metadata": {},
   "outputs": [],
   "source": [
    "#要【返回循环开头】，并根据条件测试结果决定【是否继续】执行循环，可使用continue语句\n",
    "current_number = 0\n",
    "while current_number < 10:\n",
    "    current_number += 1\n",
    "    if current_number % 2 == 0:\n",
    "        continue #如果结果为零就会回到开头继续，如果不能被整除就会被print出来\n",
    "    print(current_number)"
   ]
  },
  {
   "cell_type": "code",
   "execution_count": null,
   "id": "a117f972",
   "metadata": {},
   "outputs": [],
   "source": [
    "#7-4\n",
    "prompt = \"What condiments would you like?\\n Enter 'quit' to quit. \"\n",
    "message = \"\"\n",
    "while message != 'quit':\n",
    "    message = input(prompt)\n",
    "    if message != 'quit':\n",
    "        print(message)"
   ]
  },
  {
   "cell_type": "code",
   "execution_count": null,
   "id": "02467ab9",
   "metadata": {},
   "outputs": [],
   "source": [
    "#7-5\n",
    "prompt = \"How old are you?\"\n",
    "while True:\n",
    "    msg = input(prompt)\n",
    "    msg = int(msg)\n",
    "    if msg <3:\n",
    "        print('Hey you can go for free!')\n",
    "    elif msg >=3 and msg <= 12:\n",
    "        print('U will be charge 10 bucks man.')\n",
    "    elif msg > 12:\n",
    "        print('15 bucks plz.')"
   ]
  },
  {
   "cell_type": "code",
   "execution_count": null,
   "id": "d203608e",
   "metadata": {},
   "outputs": [],
   "source": [
    "#7-6 - 7-4_2\n",
    "prompt = \"What condiments would you like?\\n Enter 'quit' to quit. \"\n",
    "message = \"\"\n",
    "active  = True\n",
    "while active:\n",
    "    if message != 'quit':\n",
    "        message = input(prompt)\n",
    "        if message != 'quit':\n",
    "            print(message)\n",
    "    else:\n",
    "        active = False\n",
    "    "
   ]
  },
  {
   "cell_type": "code",
   "execution_count": null,
   "id": "52386026",
   "metadata": {},
   "outputs": [],
   "source": [
    "#7-6 - 7-4_3\n",
    "prompt = \"What condiments would you like?\\n Enter 'quit' to quit. \"\n",
    "message = \"\"\n",
    "while True:\n",
    "    if message != 'quit':\n",
    "        message = input(prompt)\n",
    "        if message != 'quit':\n",
    "            print(message)\n",
    "    else:\n",
    "        break"
   ]
  },
  {
   "cell_type": "code",
   "execution_count": null,
   "id": "51661a54",
   "metadata": {},
   "outputs": [],
   "source": [
    "#7.3\n",
    "#for循环是一种遍历列表的有效方式，但不应在for循环中修改列表，否则将导致Python难以跟踪其中的元素。\n",
    "#要在遍历列表的同时对其进行修改，可使用while循环。\n",
    "❶ unconfirmed_users = ['alice', 'brian', 'candace']\n",
    "  confirmed_users = []\n",
    "# 验证每个用户，直到没有未验证用户为止。\n",
    "# 将每个经过验证的用户都移到已验证用户列表中。 ❷ while unconfirmed_users:\n",
    "❸ current_user = unconfirmed_users.pop()\n",
    "      print(f\"Verifying user: {current_user.title()}\")\n",
    "❹     confirmed_users.append(current_user)\n",
    "# 显示所有已验证的用户。\n",
    "print(\"\\nThe following users have been confirmed:\") \n",
    "for confirmed_user in confirmed_users:\n",
    "      print(confirmed_user.title())"
   ]
  },
  {
   "cell_type": "code",
   "execution_count": null,
   "id": "a58937b4",
   "metadata": {},
   "outputs": [],
   "source": [
    "#注意remove只会删除该值出现的第一次，如果要用remove删除特定值那么需要while loop\n",
    "pets = ['dog', 'cat', 'dog', 'goldfish', 'cat', 'rabbit', 'cat']\n",
    "print(pets)\n",
    "while 'cat' in pets:\n",
    "    pets.remove('cat')\n",
    "print(pets)"
   ]
  },
  {
   "cell_type": "code",
   "execution_count": null,
   "id": "7efe6074",
   "metadata": {},
   "outputs": [],
   "source": [
    "#填充字典关联用户信息\n",
    "responses = {}\n",
    "# 设置一个标志，指出调查是否继续。 polling_active = True\n",
    "while polling_active:\n",
    "# 提示输入被调查者的名字和回答。\n",
    "❶     name = input(\"\\nWhat is your name? \")\n",
    "      response = input(\"Which mountain would you like to climb someday? \")\n",
    "# 将回答存储在字典中。\n",
    "❷ responses[name] = response\n",
    "# 看看是否还有人要参与调查。\n",
    "❸ repeat = input(\"Would you like to let another person respond? (yes/ n\n",
    "      if repeat == 'no':\n",
    "          polling_active = False\n",
    "# 调查结束，显示结果。\n",
    "  print(\"\\n--- Poll Results ---\")\n",
    "❹ for name, response in responses.items():\n",
    "      print(f\"{name} would like to climb {response}.\")"
   ]
  },
  {
   "cell_type": "code",
   "execution_count": null,
   "id": "2b72a689",
   "metadata": {},
   "outputs": [],
   "source": [
    "#7-8\n",
    "sandwich_orders = ['ham','cheese','beef','chicken','tuna']\n",
    "finished_orders = []\n",
    "for order in sandwich_orders:\n",
    "    print(f\"I made your {order} sandwaich.\")\n",
    "    finished_orders.append(order)\n",
    "\n",
    "print(\"\\nI have made all these sandwiches:\\n\")\n",
    "for item in finished_orders:\n",
    "    print(item.title())"
   ]
  },
  {
   "cell_type": "code",
   "execution_count": null,
   "id": "8ce59f7c",
   "metadata": {},
   "outputs": [],
   "source": [
    "#7-9\n",
    "sandwich_orders = ['ham','pastrami','cheese','pastrami','beef','chicken','tuna','pastrami']\n",
    "print(\"We are running out of Pastrami Sandwiches.\")\n",
    "while 'pastrami' in sandwich_orders:\n",
    "    sandwich_orders.remove(\"pastrami\")\n",
    "\n",
    "'patrami' in sandwich_orders\n",
    "\n",
    "for item in sandwich_orders:\n",
    "    print(item.title())"
   ]
  },
  {
   "cell_type": "code",
   "execution_count": null,
   "id": "ae69b355",
   "metadata": {},
   "outputs": [],
   "source": [
    "#7-10\n",
    "collections={}\n",
    "\n",
    "while True:\n",
    "        name = input('How may I address you?')\n",
    "        response = input('Which place would you visit?')\n",
    "        collections[name] = response\n",
    "        repeat = input('Would you like to go on?\\n yes or no\\n')\n",
    "        if repeat =='no':\n",
    "            break\n",
    "        \n",
    "for k,v in collections.items():\n",
    "    print(f\"{k.title()}'s fav place is {v.upper()}.\\n\")\n"
   ]
  },
  {
   "cell_type": "code",
   "execution_count": null,
   "id": "565d65e8",
   "metadata": {},
   "outputs": [],
   "source": []
  }
 ],
 "metadata": {
  "kernelspec": {
   "display_name": "Python 3 (ipykernel)",
   "language": "python",
   "name": "python3"
  },
  "language_info": {
   "codemirror_mode": {
    "name": "ipython",
    "version": 3
   },
   "file_extension": ".py",
   "mimetype": "text/x-python",
   "name": "python",
   "nbconvert_exporter": "python",
   "pygments_lexer": "ipython3",
   "version": "3.10.1"
  }
 },
 "nbformat": 4,
 "nbformat_minor": 5
}
