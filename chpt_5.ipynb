{
 "cells": [
  {
   "cell_type": "code",
   "execution_count": null,
   "id": "1e999d79",
   "metadata": {},
   "outputs": [],
   "source": [
    "#5.2\n",
    "#注意一个=是陈述赋值，两个=是发问判断\n",
    "#判断string是否一样的时候可以都lower或者upper比较好操作\n",
    "#判断值是否在列表中\n",
    "foods = ['burger','tofu','kokowings']\n",
    "'kokowings' in foods #vice versa用not in"
   ]
  },
  {
   "cell_type": "code",
   "execution_count": null,
   "id": "f66bf15f",
   "metadata": {},
   "outputs": [],
   "source": [
    "#5-1\n",
    "lunch = 'burger'\n",
    "print(\"Is your lunch burger?\")\n",
    "print(lunch == 'burger')\n",
    "print(\"Is your lunch steak?\")\n",
    "print(lunch =='steak')"
   ]
  },
  {
   "cell_type": "code",
   "execution_count": null,
   "id": "058ad550",
   "metadata": {},
   "outputs": [],
   "source": [
    "#5-2\n",
    "big = 'RollsRoyce';small = 'rollsroyce'\n",
    "big.lower() == small.lower()"
   ]
  },
  {
   "cell_type": "code",
   "execution_count": null,
   "id": "45348bc6",
   "metadata": {},
   "outputs": [],
   "source": [
    "no_1 = 1;no_2 = 3;no_1==no_2"
   ]
  },
  {
   "cell_type": "code",
   "execution_count": null,
   "id": "2879378d",
   "metadata": {},
   "outputs": [],
   "source": [
    "no_1 = 1;no_2 = 3; no_1==1 or no_2 ==4"
   ]
  },
  {
   "cell_type": "code",
   "execution_count": null,
   "id": "91d792f9",
   "metadata": {},
   "outputs": [],
   "source": [
    "test = ['water','bottle','drip']\n",
    "'drip' in test"
   ]
  },
  {
   "cell_type": "code",
   "execution_count": null,
   "id": "6a76dae5",
   "metadata": {},
   "outputs": [],
   "source": [
    "test = ['water','bottle','drip']\n",
    "'bliss' not in test"
   ]
  },
  {
   "cell_type": "code",
   "execution_count": null,
   "id": "99072471",
   "metadata": {},
   "outputs": [],
   "source": [
    "#5.3\n",
    "#if-elif-else 注意第二个范围不需要把第一个范围又写一遍，因为第一个没有通过才会进入第二个，elif数量任意，else可不要\n",
    "#if-elif-else结构功能强大，但仅适合用于【只有一个条件满足】的情况:遇到通过了的测试后，Python就跳过余下的测试。\n",
    "#然而有时候必须检查你关心的【所有条件】。在这种情况下，应使用一系列不包含elif和else代码块的简单if语句。\n",
    "#在可能有多个条件为True且需要在每个条件为True时都采取相应措施时，适合使用这种方法。\n",
    "list  = ['sza','gooddays','kdot','damn']\n",
    "if 'sza' in list:\n",
    "    print(\"SZA in da house\")\n",
    "if 'kdot' in list:\n",
    "    print(\"KDOT in da house\")"
   ]
  },
  {
   "cell_type": "code",
   "execution_count": 18,
   "id": "d14cb993",
   "metadata": {},
   "outputs": [
    {
     "name": "stdout",
     "output_type": "stream",
     "text": [
      "You scored 5 points!\n"
     ]
    }
   ],
   "source": [
    "#5-3\n",
    "alien_color = 'green'\n",
    "if alien_color=='green':\n",
    "    print('You scored 5 points!')"
   ]
  },
  {
   "cell_type": "code",
   "execution_count": null,
   "id": "894fa150",
   "metadata": {},
   "outputs": [],
   "source": [
    "#5-4\n",
    "alien_color = 'green'\n",
    "if alien_color=='green':\n",
    "    print('You scored 5 points!')\n",
    "else:\n",
    "    print('You scored 10 points!')\n",
    "\n",
    "if alien_color=='red':\n",
    "    print('You scored 5 points!')\n",
    "else:\n",
    "    print('You scored 10 points!')"
   ]
  },
  {
   "cell_type": "code",
   "execution_count": 27,
   "id": "3894f441",
   "metadata": {},
   "outputs": [
    {
     "name": "stdout",
     "output_type": "stream",
     "text": [
      "You scored 10 points!\n"
     ]
    }
   ],
   "source": [
    "#5-5\n",
    "alien_color = 'yellow'\n",
    "if alien_color=='green':\n",
    "    print('You scored 5 points!')\n",
    "elif alien_color=='yellow':\n",
    "    print('You scored 10 points!')\n",
    "else:\n",
    "    print('You scored 15 points!')"
   ]
  },
  {
   "cell_type": "code",
   "execution_count": 28,
   "id": "6d4909e6",
   "metadata": {},
   "outputs": [
    {
     "name": "stdout",
     "output_type": "stream",
     "text": [
      "Confused adulthood isn't it?\n"
     ]
    }
   ],
   "source": [
    "#5-6\n",
    "age = 26\n",
    "if age<2:\n",
    "    print('You are a small baby.')\n",
    "elif age<=4:\n",
    "    print('yOUR ARE A MEDIAM BABY')\n",
    "elif age<13:\n",
    "    print('You can go to primary school.')\n",
    "elif age<20:\n",
    "    print('High school rebellions!')\n",
    "elif age<30:\n",
    "    print(\"Confused adulthood isn't it?\")\n"
   ]
  },
  {
   "cell_type": "code",
   "execution_count": 29,
   "id": "8121479f",
   "metadata": {},
   "outputs": [
    {
     "name": "stdout",
     "output_type": "stream",
     "text": [
      "I love watermalon!\n",
      "They are expensive\n"
     ]
    }
   ],
   "source": [
    "#5-7\n",
    "fruits = ['Strawberries','watermelon','pineapples']\n",
    "if 'watermelon' in fruits:\n",
    "    print('I love watermalon!')\n",
    "if 'Strawberries' in fruits:\n",
    "    print('They are expensive')"
   ]
  },
  {
   "cell_type": "code",
   "execution_count": 32,
   "id": "ed8cec07",
   "metadata": {},
   "outputs": [
    {
     "name": "stdout",
     "output_type": "stream",
     "text": [
      "Are you sure you want a plain pizza?\n"
     ]
    }
   ],
   "source": [
    "#5.4\n",
    "#确定列表是不是为空\n",
    "requested_toppings = []\n",
    "if requested_toppings: \n",
    "    #注意if和for的位置，在if语句中将列表名用作条件表达式时，\n",
    "    #Python将在列表至少包含一个元素时返回True，并在【列表为空时返回False】\n",
    "      for requested_topping in requested_toppings:\n",
    "          print(f\"Adding {requested_topping}.\")\n",
    "      print(\"\\nFinished making your pizza!\")\n",
    "else:#因为是空的所以false会返回这个\n",
    "      print(\"Are you sure you want a plain pizza?\")"
   ]
  },
  {
   "cell_type": "code",
   "execution_count": 43,
   "id": "b5821c9e",
   "metadata": {},
   "outputs": [
    {
     "name": "stdout",
     "output_type": "stream",
     "text": [
      "Adding mushrooms.\n",
      "Sorry, we don't have french fries.\n",
      "Adding extra cheese.\n",
      "\n",
      "Finished making your pizza!\n"
     ]
    }
   ],
   "source": [
    "#使用多个列表的例子 -- 注意缩进！\n",
    "available_toppings = ['mushrooms', 'olives', 'green peppers',\n",
    "                        'pepperoni', 'pineapple', 'extra cheese']\n",
    "requested_toppings = ['mushrooms', 'french fries', 'extra cheese']\n",
    "\n",
    "for requested_topping in requested_toppings:\n",
    "    if requested_topping in available_toppings:\n",
    "        print(f\"Adding {requested_topping}.\")\n",
    "    else:\n",
    "        print(f\"Sorry, we don't have {requested_topping}.\")\n",
    "print(\"\\nFinished making your pizza!\")"
   ]
  },
  {
   "cell_type": "code",
   "execution_count": null,
   "id": "7022ea6e",
   "metadata": {},
   "outputs": [],
   "source": [
    "#5-8\n",
    "list = ['admin','lolo','zozo','loren','lorenzo']\n",
    "for name in list:\n",
    "    if name=='admin':\n",
    "        print('Hey admin, would u like the status report?')\n",
    "    else:\n",
    "        print(f'Hey {name.title()}, thank you for logging bruh...')"
   ]
  },
  {
   "cell_type": "code",
   "execution_count": 49,
   "id": "d6040312",
   "metadata": {},
   "outputs": [
    {
     "name": "stdout",
     "output_type": "stream",
     "text": [
      "We need to find users!\n"
     ]
    }
   ],
   "source": [
    "#5-9\n",
    "list = []\n",
    "if list:\n",
    "    for name in list:\n",
    "        if name=='admin':\n",
    "            print('Hey admin, would u like the status report?')\n",
    "        else:\n",
    "            print(f'Hey {name.title()}, thank you for logging bruh...')\n",
    "else:\n",
    "    print('We need to find users!')"
   ]
  },
  {
   "cell_type": "code",
   "execution_count": 50,
   "id": "7f24c05d",
   "metadata": {},
   "outputs": [
    {
     "name": "stdout",
     "output_type": "stream",
     "text": [
      "You need to use another name!\n",
      "The name kiwi is not being used. Go ahead then.\n",
      "The name joy is not being used. Go ahead then.\n",
      "You need to use another name!\n",
      "The name funnycool is not being used. Go ahead then.\n"
     ]
    }
   ],
   "source": [
    "#5-10-1\n",
    "current_users = ['admin','lolo','zozo','loren','lorenzo']\n",
    "new_users = ['lolo','kiwi','joy','zozo','funnycool']\n",
    "\n",
    "for user in new_users:\n",
    "    if user in current_users:\n",
    "        print('You need to use another name!')\n",
    "    else:\n",
    "        print(f\"The name {user} is not being used. Go ahead then.\")"
   ]
  },
  {
   "cell_type": "code",
   "execution_count": 54,
   "id": "52c82b44",
   "metadata": {},
   "outputs": [
    {
     "name": "stdout",
     "output_type": "stream",
     "text": [
      "['admin', 'lolo', 'zozo', 'loren', 'lorenzo']\n",
      "You need to use another name!\n",
      "The name kiwi is not being used. Go ahead then.\n",
      "The name joy is not being used. Go ahead then.\n",
      "You need to use another name!\n",
      "The name funnycool is not being used. Go ahead then.\n"
     ]
    }
   ],
   "source": [
    "#5-10-2\n",
    "new_users = ['lolo','kiwi','joy','zozo','funnycool']\n",
    "current_users_little = []\n",
    "for user in current_users:\n",
    "    current_users_little.append(user.lower())\n",
    "print(current_users_little)\n",
    "for user in new_users:\n",
    "    if user.lower() in current_users_little:\n",
    "        print('You need to use another name!')\n",
    "    else:\n",
    "        print(f\"The name {user} is not being used. Go ahead then.\")"
   ]
  },
  {
   "cell_type": "code",
   "execution_count": null,
   "id": "83e5daa9",
   "metadata": {},
   "outputs": [],
   "source": [
    "#5-11\n",
    "for item in range(1,10):\n",
    "    if item ==1:\n",
    "        print('1st\\n')\n",
    "    elif item==2:\n",
    "        print('2nd\\n')\n",
    "    elif item==3:\n",
    "        print('3rd\\n')\n",
    "    else:\n",
    "        print(f'{item}th\\n')"
   ]
  }
 ],
 "metadata": {
  "kernelspec": {
   "display_name": "Python 3 (ipykernel)",
   "language": "python",
   "name": "python3"
  },
  "language_info": {
   "codemirror_mode": {
    "name": "ipython",
    "version": 3
   },
   "file_extension": ".py",
   "mimetype": "text/x-python",
   "name": "python",
   "nbconvert_exporter": "python",
   "pygments_lexer": "ipython3",
   "version": "3.10.1"
  }
 },
 "nbformat": 4,
 "nbformat_minor": 5
}
