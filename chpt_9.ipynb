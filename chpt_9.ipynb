{
 "cells": [
  {
   "cell_type": "code",
   "execution_count": null,
   "id": "250b0eab",
   "metadata": {},
   "outputs": [],
   "source": [
    "#object oriented programming - Class\n",
    "编写类时，你定义一大类对象都有的通用行为。\n",
    "基于类创建对象时，每个对象都自动具备这种通用行为，然后可根据需要赋予每个对象独特的个性。"
   ]
  },
  {
   "cell_type": "code",
   "execution_count": null,
   "id": "73b5c110",
   "metadata": {},
   "outputs": [],
   "source": [
    "#9.1"
   ]
  },
  {
   "cell_type": "code",
   "execution_count": null,
   "id": "56d34cd6",
   "metadata": {},
   "outputs": [],
   "source": [
    "class Dog: #【首字母大写】的名称指的是【类】，这里也没有圆括号\n",
    "\"\"\"一次模拟小狗的简单尝试。\"\"\"\n",
    "    def __init__(self, name, age): #name，age是属性，sit和roll_over是里面的方法\n",
    "        \"\"\"初始化属性name和age。\"\"\"\n",
    "        self.name = name\n",
    "        self.age = age\n",
    "    def sit(self): \"\"\"模拟小狗收到命令时蹲下。\"\"\"\n",
    "        print(f\"{self.name} is now sitting.\")\n",
    "    def roll_over(self): \"\"\"模拟小狗收到命令时打滚。\"\"\" \n",
    "        print(f\"{self.name} rolled over!\")"
   ]
  },
  {
   "cell_type": "code",
   "execution_count": null,
   "id": "19b14d09",
   "metadata": {},
   "outputs": [],
   "source": [
    "方法__init__() - 注意是两个下划线\n",
    "在这个方法的定义中，形参self必不可少，而且必须位于其他形参的前面。\n",
    "因为Python调用这个方法来创建Dog实例时，将自动传入实参self。\n",
    "每个与实例相关联的方法调用都自动传递实参self，它是一个【指向实例本身的引用】，让实例能够访问类中的属性和方法。\n",
    "创建Dog实例时，Python将调用Dog类的方法 __init__()。\n",
    "我们将通过实参向Dog()传递名字和年龄，self会自动传递，因此不需要传递它。\n",
    "每当根据Dog类创建实例时，都只需给最后 两个形参(name和age)提供值。"
   ]
  },
  {
   "cell_type": "code",
   "execution_count": null,
   "id": "eaf1f61d",
   "metadata": {},
   "outputs": [],
   "source": [
    "#访问【属性】\n",
    "my_dog = Dog('Willie', 6)\n",
    "my_dog.name\n",
    "my_dog.age\n",
    "print(f\"My dog's name is {my_dog.name}.\")\n",
    "print(f\"My dog is {my_dog.age} years old.\")\n",
    "#调用【方法】\n",
    "my_dog.sit()\n",
    "my_dog.roll_over()"
   ]
  },
  {
   "cell_type": "code",
   "execution_count": 10,
   "id": "2adf5a10",
   "metadata": {},
   "outputs": [],
   "source": [
    "#9-1\n",
    "class Restaurant:\n",
    "    def __init__(self,rest_name,cuisine_type):\n",
    "        self.rest_name = rest_name\n",
    "        self.cuisine_type = cuisine_type\n",
    "    def desc_rest(self):\n",
    "        print(f\"The restaurant name is {self.rest_name.title()}, which has {self.cuisine_type} cuisines.\")\n",
    "    def open_rest(self):\n",
    "        print(f\"The {self.rest_name.title()} is in operation.\")"
   ]
  },
  {
   "cell_type": "code",
   "execution_count": 8,
   "id": "a8fe0c38",
   "metadata": {},
   "outputs": [
    {
     "name": "stdout",
     "output_type": "stream",
     "text": [
      "mom kitchen\n",
      "Homemade style\n",
      "The restaurant name is Mom Kitchen, which has Homemade style.\n",
      "The Mom Kitchen is in operation.\n"
     ]
    }
   ],
   "source": [
    "#9-1 usage\n",
    "my_fav = Restaurant('mom kitchen','Homemade style')\n",
    "print(my_fav.rest_name)\n",
    "print(my_fav.cuisine_type)\n",
    "my_fav.desc_rest()\n",
    "my_fav.open_rest()"
   ]
  },
  {
   "cell_type": "code",
   "execution_count": null,
   "id": "5269e92b",
   "metadata": {},
   "outputs": [],
   "source": [
    "#9-2\n",
    "one = Restaurant('Urban kitchen','international')\n",
    "one.desc_rest()\n",
    "two = Restaurant('Ritz cafe','french')\n",
    "two.desc_rest()\n",
    "three = Restaurant('Lai Heen','Cantonese')\n",
    "three.desc_rest()"
   ]
  },
  {
   "cell_type": "code",
   "execution_count": 15,
   "id": "c203a102",
   "metadata": {},
   "outputs": [],
   "source": [
    "#9-3\n",
    "\n",
    "class User:\n",
    "    def __init__(self,first_name,last_name,age,occupation):\n",
    "        self.first_name = first_name\n",
    "        self.last_name = last_name\n",
    "        self.age = age\n",
    "        self.occupation = occupation\n",
    "    def desc_user(self):\n",
    "        print(f\"The user, who is a {self.age} year-old {self.occupation} is called {self.first_name.title()}.\")\n",
    "    def greet_user(self):\n",
    "        print(f\"Hey {self.first_name.title()}, what up.\")"
   ]
  },
  {
   "cell_type": "code",
   "execution_count": 16,
   "id": "0bc1e250",
   "metadata": {},
   "outputs": [],
   "source": [
    "ziwi = User('ziwi','zeng',26,'security dev-op')"
   ]
  },
  {
   "cell_type": "code",
   "execution_count": 17,
   "id": "8dd0af50",
   "metadata": {},
   "outputs": [
    {
     "name": "stdout",
     "output_type": "stream",
     "text": [
      "The user, who is a 26 year-old security dev-op is called Ziwi.\n",
      "Hey Ziwi, what up.\n"
     ]
    }
   ],
   "source": [
    "ziwi.desc_user()\n",
    "ziwi.greet_user()"
   ]
  },
  {
   "cell_type": "code",
   "execution_count": null,
   "id": "9fba6d8e",
   "metadata": {},
   "outputs": [],
   "source": [
    "#9.2\n",
    "class Car: \"\"\"一次模拟汽车的简单尝试。\"\"\"\n",
    "    def __init__(self, make, model, year): \"\"\"初始化描述汽车的属性。\"\"\" \n",
    "        self.make = make\n",
    "        self.model = model\n",
    "        self.year = year\n",
    "    def get_descriptive_name(self): \"\"\"返回整洁的描述性信息。\"\"\"\n",
    "        long_name = f\"{self.year} {self.make} {self.model}\" #稍微注意一下这个位置，名字string是怎么生成的\n",
    "        return long_name.title() #以及如果每一个都要大写的话，怎么设置比较方便\n",
    "\n",
    "my_new_car = Car('audi', 'a4', 2019)\n",
    "print(my_new_car.get_descriptive_name())"
   ]
  },
  {
   "cell_type": "code",
   "execution_count": null,
   "id": "eb46ab01",
   "metadata": {},
   "outputs": [],
   "source": [
    "创建实例的时候，有些属性无需通过形参来进行定义，可以直接在init中设置默认值"
   ]
  },
  {
   "cell_type": "code",
   "execution_count": null,
   "id": "d95fe488",
   "metadata": {},
   "outputs": [],
   "source": [
    "class Car: \n",
    "    def __init__(self, make, model, year): \n",
    "        self.make = make\n",
    "        self.model = model\n",
    "        self.year = year\n",
    "        self.odometer_reading = 0 #可以发现并没有在init的括号里写【odometer_reading】\n",
    "        \n",
    "如果要修改属性的值，可以直接访问\n",
    "my_new_car = Car('audi', 'a4', 2019)\n",
    "my_new_car.odometer_reading = 23\n",
    "\n",
    "也可以直接创建一个方法，在内部进行更新\n",
    "def update_odometer(self, mileage):\n",
    "    self.odometer_reading = mileage\n",
    "my_new_car.update_odometer(23)\n",
    "\n",
    "对update_odometer()进行扩展\n",
    "比如禁止任何人将里程表读数往回调：\n",
    "def update_odometer(self, mileage):\n",
    "    if mileage >= self.odometer_reading:\n",
    "        self.odometer_reading = mileage\n",
    "    else:\n",
    "        print(\"You can't roll back an odometer!\")"
   ]
  },
  {
   "cell_type": "code",
   "execution_count": null,
   "id": "03e61a71",
   "metadata": {},
   "outputs": [],
   "source": [
    "通过方法对属性的值进行递增：\n",
    "def increment_odometer(self, miles):\n",
    "    self.odometer_reading += miles"
   ]
  },
  {
   "cell_type": "code",
   "execution_count": 24,
   "id": "c4816a06",
   "metadata": {},
   "outputs": [],
   "source": [
    "#9-4-Main\n",
    "class Restaurant:\n",
    "    def __init__(self,rest_name,cuisine_type):\n",
    "        self.rest_name = rest_name\n",
    "        self.cuisine_type = cuisine_type\n",
    "        self.number_served = 0\n",
    "    def desc_rest(self):\n",
    "        print(f\"The restaurant name is {self.rest_name.title()}, which has {self.cuisine_type} cuisines.\")\n",
    "    def open_rest(self):\n",
    "        print(f\"The {self.rest_name.title()} is in operation.\")\n",
    "    def incre_number(self,incre_number):\n",
    "        self.number_served += incre_number"
   ]
  },
  {
   "cell_type": "code",
   "execution_count": 25,
   "id": "6d576d71",
   "metadata": {},
   "outputs": [
    {
     "name": "stdout",
     "output_type": "stream",
     "text": [
      "There are 0 people in the restaurant.\n",
      "There are 6 people in the restaurant.\n"
     ]
    }
   ],
   "source": [
    "#9-4-1\n",
    "my_fav = Restaurant('mom kitchen','Homemade style')\n",
    "print(f\"There are {my_fav.number_served} people in the restaurant.\")\n",
    "\n",
    "my_fav.number_served = 6\n",
    "print(f\"There are {my_fav.number_served} people in the restaurant.\")"
   ]
  },
  {
   "cell_type": "code",
   "execution_count": 26,
   "id": "d0fcaded",
   "metadata": {},
   "outputs": [
    {
     "name": "stdout",
     "output_type": "stream",
     "text": [
      "14\n"
     ]
    }
   ],
   "source": [
    "#9-4-2\n",
    "my_fav.incre_number(8)\n",
    "print(my_fav.number_served)"
   ]
  },
  {
   "cell_type": "code",
   "execution_count": 27,
   "id": "771996fa",
   "metadata": {},
   "outputs": [],
   "source": [
    "#9-5\n",
    "\n",
    "class User:\n",
    "    def __init__(self,first_name,last_name,age,occupation,login_attempts):\n",
    "        self.first_name = first_name\n",
    "        self.last_name = last_name\n",
    "        self.age = age\n",
    "        self.occupation = occupation\n",
    "        self.login_attempts = login_attempts \n",
    "    def desc_user(self):\n",
    "        print(f\"The user, who is a {self.age} year-old {self.occupation} is called {self.first_name.title()}.\")\n",
    "    def greet_user(self):\n",
    "        print(f\"Hey {self.first_name.title()}, what up.\")\n",
    "    def incre_login_attempts(self):\n",
    "        self.login_attempts += 1\n",
    "    def reset_login_attempts(self):\n",
    "        self.login_attempts = 0\n",
    "        "
   ]
  },
  {
   "cell_type": "code",
   "execution_count": 28,
   "id": "1c9084b5",
   "metadata": {},
   "outputs": [],
   "source": [
    "ziwi = User('ziwi','zeng',26,'security dev-op',1)"
   ]
  },
  {
   "cell_type": "code",
   "execution_count": 29,
   "id": "5ab9a8f8",
   "metadata": {},
   "outputs": [
    {
     "data": {
      "text/plain": [
       "2"
      ]
     },
     "execution_count": 29,
     "metadata": {},
     "output_type": "execute_result"
    }
   ],
   "source": [
    "ziwi.incre_login_attempts()\n",
    "ziwi.login_attempts"
   ]
  },
  {
   "cell_type": "code",
   "execution_count": 30,
   "id": "9c67f26c",
   "metadata": {},
   "outputs": [
    {
     "data": {
      "text/plain": [
       "3"
      ]
     },
     "execution_count": 30,
     "metadata": {},
     "output_type": "execute_result"
    }
   ],
   "source": [
    "ziwi.incre_login_attempts()\n",
    "ziwi.login_attempts"
   ]
  },
  {
   "cell_type": "code",
   "execution_count": 31,
   "id": "f950b4d3",
   "metadata": {},
   "outputs": [
    {
     "data": {
      "text/plain": [
       "0"
      ]
     },
     "execution_count": 31,
     "metadata": {},
     "output_type": "execute_result"
    }
   ],
   "source": [
    "ziwi.reset_login_attempts()\n",
    "ziwi.login_attempts"
   ]
  },
  {
   "cell_type": "code",
   "execution_count": null,
   "id": "074e75df",
   "metadata": {},
   "outputs": [],
   "source": [
    "#9.3继承\n",
    "#一个类继承另一个类时，将自动获得另一个类的所有属性和方法。原有的类称为父类，而新类称为子类。\n",
    "#子类继承了父类的所有属性和方法，同时还可以定义自己的属性和方法。\n",
    "\n",
    "##模拟实物_超类及子类继承方法\n",
    "class Car: #父类放在最前面\n",
    "    def __init__(self,make,model,year): #定义Car方法里面需要填哪些，并用self连接关系\n",
    "        self.make = make\n",
    "        self.model = model\n",
    "        self.year = year\n",
    "        self.odometer_reading = 0 #设置了一个可有可无参数，default为0\n",
    "    def get_descriptive_name(self): #开始设置方法，主要都要和self扯上关系，不然不能连接Car的init里的参数\n",
    "        long_name=f\"{self.year} {self.make} {self.model}\" #避免一个一个设置title，可以先放在一个变量里再进行下面一步\n",
    "        print(f\"{long_name.title()}\")\n",
    "    def read_odometer(self): \n",
    "        print(f\"This car has {self.odometer_reading} miles on it.\")\n",
    "    def update_odometer(self,miles): \n",
    "        if miles>= self.odometer_reading:\n",
    "            self.odometer_reading = miles\n",
    "        else:\n",
    "            print(\"Y'all not supposed to change it.\")\n",
    "\n",
    "class ElectricCar(Car): #照抄超类，注意括号\n",
    "    def __init__(self, make ,model, year): #照抄超类\n",
    "        super().__init__(make, model, year) #super()是一个特殊的函数，让能够调用父类的方法\n",
    "        self.battery_size = 75 #为子类添加一个新的属性\n",
    "        \n",
    "    def describe_battery(self): \n",
    "        print(f\"This car has a {self.battery_size} battery. \")#根据子类新属性添加的新方法\n",
    "        \n",
    "my_tesla = ElectricCar('tesla', 'model s', 2019)\n",
    "my_tesla.get_descriptive_name()\n",
    "my_tesla.describe_battery()        \n",
    "\n",
    "#如果一个属性或方法是任何汽车都有的，而不是电动汽车特有的，就应将其加入到Car类而非ElectricCar类中。\n",
    "#这样，使用Car类的人将获得相应的功能，而ElectricCar类只包含处理电动汽车特有属性和行为的代码。\n"
   ]
  },
  {
   "cell_type": "code",
   "execution_count": null,
   "id": "596e8bea",
   "metadata": {},
   "outputs": [],
   "source": [
    "#重写父类的方法\n",
    "可在子类中定义一个与要重写的父类方法【同名的方法】。\n",
    "这样，Python将不会考虑这个父类方法，【而只关注你在子类中】定义的相应方法。"
   ]
  },
  {
   "cell_type": "code",
   "execution_count": null,
   "id": "b42e139e",
   "metadata": {},
   "outputs": [],
   "source": [
    "#将实例用作属性\n",
    "使用代码模拟实物时，你可能会发现自己给类添加的细节越来越多:属性和方法清单以及文件都越来越长。\n",
    "在这种情况下，可能需要将类的一部分提取出来，作为一个独立的类。可以将大型类拆分成多个协同工作的小类。\n",
    "比如说不断给ElectricCar添加属性和方法的时候，发现很多都和电池有关，\n",
    "那么可以将类的一部分提取出来作为一个独立的类"
   ]
  },
  {
   "cell_type": "code",
   "execution_count": null,
   "id": "b9cada86",
   "metadata": {},
   "outputs": [],
   "source": [
    "class Car: \n",
    "    def __init__(self,make,model,year): \n",
    "        self.make = make\n",
    "        self.model = model\n",
    "        self.year = year\n",
    "        self.odometer_reading = 0 \n",
    "    def get_descriptive_name(self): \n",
    "        long_name=f\"{self.year} {self.make} {self.model}\" \n",
    "        print(f\"{long_name.title()}\")\n",
    "    def read_odometer(self): \n",
    "        print(f\"This car has {self.odometer_reading} miles on it.\")\n",
    "    def update_odometer(self,miles): \n",
    "        if miles>= self.odometer_reading:\n",
    "            self.odometer_reading = miles\n",
    "        else:\n",
    "            print(\"Y'all not supposed to change it.\")\n",
    "\n",
    "class Battery: \n",
    "    def __init__(self, battery_size = 75):\n",
    "        self.battery_size = battery_size \n",
    "    def describe_battery(self): \n",
    "        print(f\"This car has a {self.battery_size} battery. \")\n",
    "        \n",
    "#将这些属性和方法提取出来，放到一个名为【Battery的类】中，并将一个【Battery实例作为ElectricCar类的属性】:\n",
    "class ElectricCar(Car):\n",
    "    def __init__(self, make ,model, year): \n",
    "        super().__init__(make, model, year) \n",
    "        self.battery_size = Battery() #相当于这里直接有默认值75在这里\n",
    "\n",
    "        "
   ]
  },
  {
   "cell_type": "code",
   "execution_count": null,
   "id": "d58aca36",
   "metadata": {},
   "outputs": [],
   "source": [
    "#继续给battery添加方法，根据电池容量报告汽车的续航里程\n",
    "\n",
    "class Car: \n",
    "    def __init__(self,make,model,year): \n",
    "        self.make = make\n",
    "        self.model = model\n",
    "        self.year = year\n",
    "        self.odometer_reading = 0 \n",
    "    def get_descriptive_name(self): \n",
    "        long_name=f\"{self.year} {self.make} {self.model}\" \n",
    "        print(f\"{long_name.title()}\")\n",
    "    def read_odometer(self): \n",
    "        print(f\"This car has {self.odometer_reading} miles on it.\")\n",
    "    def update_odometer(self,miles): \n",
    "        if miles>= self.odometer_reading:\n",
    "            self.odometer_reading = miles\n",
    "        else:\n",
    "            print(\"Y'all not supposed to change it.\")\n",
    "\n",
    "class Battery: \n",
    "    def __init__(self, battery_size = 75):\n",
    "        self.battery_size = battery_size \n",
    "    def describe_battery(self): \n",
    "        print(f\"This car has a {self.battery_size} battery. \")\n",
    "    def get_range(self):\n",
    "        if self.battery_size ==75:\n",
    "            range = 260\n",
    "        elif self.battery_size ==100:\n",
    "            range = 315\n",
    "        print(f\" This car can go about {range} miles on a full charge. \")\n",
    "    \n",
    "class ElectricCar(Car):\n",
    "    def __init__(self, make ,model, year): \n",
    "        super().__init__(make, model, year) \n",
    "        self.battery = Battery() \n",
    "\n"
   ]
  },
  {
   "cell_type": "code",
   "execution_count": 45,
   "id": "3930f701",
   "metadata": {},
   "outputs": [
    {
     "name": "stdout",
     "output_type": "stream",
     "text": [
      "2019 Tesla Model S\n",
      "This car has a 75 battery. \n"
     ]
    }
   ],
   "source": [
    "my_tesla = ElectricCar('tesla', 'model s', 2019)\n",
    "my_tesla.get_descriptive_name()\n",
    "\n",
    "my_tesla.battery.describe_battery()\n",
    "my_tesla.battery.get_range()"
   ]
  },
  {
   "cell_type": "code",
   "execution_count": 50,
   "id": "1e3ce56c",
   "metadata": {},
   "outputs": [],
   "source": [
    "#9-6\n",
    "class Restaurant:\n",
    "    def __init__(self,rest_name,cuisine_type):\n",
    "        self.rest_name = rest_name\n",
    "        self.cuisine_type = cuisine_type\n",
    "        self.number_served = 0\n",
    "    def desc_rest(self):\n",
    "        print(f\"The restaurant name is {self.rest_name.title()}, which has {self.cuisine_type} cuisines.\")\n",
    "    def open_rest(self):\n",
    "        print(f\"The {self.rest_name.title()} is in operation.\")\n",
    "    def incre_number(self,incre_number):\n",
    "        self.number_served += incre_number\n",
    "        \n",
    "        \n",
    "class IceCreamStand(Restaurant):\n",
    "    def __init__(self,rest_name,cuisine_type):\n",
    "        super().__init__(rest_name,cuisine_type)\n",
    "        self.flavors = []\n",
    "    def show_flavor(self):\n",
    "        print(\"Here are the flavors we have:\")\n",
    "        for item in self.flavors:\n",
    "            print(f\" - {item.title()}\")\n",
    "    "
   ]
  },
  {
   "cell_type": "code",
   "execution_count": 52,
   "id": "43eb6a64",
   "metadata": {},
   "outputs": [
    {
     "name": "stdout",
     "output_type": "stream",
     "text": [
      "Here are the flavors we have:\n",
      " - Strawberry\n",
      " - Pineapple\n",
      " - Grape\n",
      " - Peach\n",
      " - Chocolate\n",
      " - Coffee\n"
     ]
    }
   ],
   "source": [
    "example = IceCreamStand('Godiva','Ice cream')\n",
    "example.flavors = ['strawberry','pineapple','grape','peach','chocolate','coffee']\n",
    "example.show_flavor()"
   ]
  },
  {
   "cell_type": "code",
   "execution_count": 54,
   "id": "a5524d72",
   "metadata": {},
   "outputs": [],
   "source": [
    "#9-7\n",
    "class User:\n",
    "    def __init__(self,first_name,last_name,age,occupation,login_attempts):\n",
    "        self.first_name = first_name\n",
    "        self.last_name = last_name\n",
    "        self.age = age\n",
    "        self.occupation = occupation\n",
    "        self.login_attempts = login_attempts \n",
    "    def desc_user(self):\n",
    "        print(f\"The user, who is a {self.age} year-old {self.occupation} is called {self.first_name.title()}.\")\n",
    "    def greet_user(self):\n",
    "        print(f\"Hey {self.first_name.title()}, what up.\")\n",
    "    def incre_login_attempts(self):\n",
    "        self.login_attempts += 1\n",
    "    def reset_login_attempts(self):\n",
    "        self.login_attempts = 0\n",
    "        \n",
    "        \n",
    "class Admin(User):\n",
    "    def __init__(self,first_name,last_name,age,occupation,login_attempts):\n",
    "        super().__init__(first_name,last_name,age,occupation,login_attempts)\n",
    "        self.privileges = []\n",
    "    def show_pri(self):\n",
    "        print(\"Here are the privileges that you have: \")\n",
    "        for item in self.privileges:\n",
    "            print(f\"- {item.title()}\")"
   ]
  },
  {
   "cell_type": "code",
   "execution_count": 55,
   "id": "9864abf5",
   "metadata": {},
   "outputs": [
    {
     "name": "stdout",
     "output_type": "stream",
     "text": [
      "Here are the privileges that you have: \n",
      "- Delete\n",
      "- Insert\n",
      "- Alter\n"
     ]
    }
   ],
   "source": [
    "trial = Admin('ziwi','zeng',26,'dev-op',2)\n",
    "trial.privileges = ['delete','insert','alter']\n",
    "\n",
    "trial.show_pri()"
   ]
  },
  {
   "cell_type": "code",
   "execution_count": 63,
   "id": "6bc6cd32",
   "metadata": {},
   "outputs": [],
   "source": [
    "#9-8\n",
    "class Privileges:\n",
    "    def __init__(self,privileges=[]):\n",
    "        self.privileges = privileges\n",
    "        \n",
    "    def show_pri(self):\n",
    "        print(\"Here are the privileges that you have: \")\n",
    "        for item in self.privileges:\n",
    "            print(f\"- {item.title()}\")\n",
    "            \n",
    "class Admin(User):\n",
    "    def __init__(self,first_name,last_name,age,occupation,login_attempts):\n",
    "        super().__init__(first_name,last_name,age,occupation,login_attempts)\n",
    "        self.privileges = Privileges() \n"
   ]
  },
  {
   "cell_type": "code",
   "execution_count": null,
   "id": "bd27dbad",
   "metadata": {},
   "outputs": [],
   "source": [
    "eric = Admin('eric', 'matthes', 27, 'manager', 6)\n",
    "eric.privileges.show_pri()\n",
    "\n",
    "print(\"\\nAdding privileges...\")\n",
    "\n",
    "eric_privileges = [\n",
    "    'can reset passwords',\n",
    "    'can moderate discussions',\n",
    "    'can suspend accounts',\n",
    "    ]\n",
    "\n",
    "eric.privileges.privileges = eric_privileges\n",
    "#注意下这个部分，【eric.privileges】=Privileges() \n",
    "#Privileges() 类下面 self.privileges = privileges\n",
    "#所以是eric.privileges.privileges = eric_privileges，有两个privileges\n",
    "eric.privileges.show_pri()\n"
   ]
  },
  {
   "cell_type": "code",
   "execution_count": 69,
   "id": "fdfd50cc",
   "metadata": {},
   "outputs": [],
   "source": [
    "#9-9\n",
    "class Car: \n",
    "    def __init__(self,make,model,year): \n",
    "        self.make = make\n",
    "        self.model = model\n",
    "        self.year = year\n",
    "        self.odometer_reading = 0 \n",
    "    def get_descriptive_name(self): \n",
    "        long_name=f\"{self.year} {self.make} {self.model}\" \n",
    "        print(f\"{long_name.title()}\")\n",
    "    def read_odometer(self): \n",
    "        print(f\"This car has {self.odometer_reading} miles on it.\")\n",
    "    def update_odometer(self,miles): \n",
    "        if miles>= self.odometer_reading:\n",
    "            self.odometer_reading = miles\n",
    "        else:\n",
    "            print(\"Y'all not supposed to change it.\")\n",
    "\n",
    "class Battery: \n",
    "    def __init__(self, battery_size = 75):\n",
    "        self.battery_size = battery_size \n",
    "    def describe_battery(self): \n",
    "        print(f\"This car has a {self.battery_size} battery. \")\n",
    "    def get_range(self):\n",
    "        if self.battery_size ==75:\n",
    "            range = 260\n",
    "        elif self.battery_size ==100:\n",
    "            range = 315\n",
    "        print(f\" This car can go about {range} miles on a full charge. \")\n",
    "    def upgrade_battery(self):\n",
    "        if self.battery_size != 100:\n",
    "            self.battery_size = 100\n",
    "    \n",
    "class ElectricCar(Car):\n",
    "    def __init__(self, make ,model, year): \n",
    "        super().__init__(make, model, year) \n",
    "        self.battery = Battery() "
   ]
  },
  {
   "cell_type": "code",
   "execution_count": 70,
   "id": "1ad1e854",
   "metadata": {},
   "outputs": [
    {
     "name": "stdout",
     "output_type": "stream",
     "text": [
      " This car can go about 260 miles on a full charge. \n"
     ]
    }
   ],
   "source": [
    "tesla = ElectricCar('tesla','s',2021)\n",
    "tesla.battery.get_range()"
   ]
  },
  {
   "cell_type": "code",
   "execution_count": 71,
   "id": "f00d0282",
   "metadata": {},
   "outputs": [
    {
     "name": "stdout",
     "output_type": "stream",
     "text": [
      " This car can go about 315 miles on a full charge. \n"
     ]
    }
   ],
   "source": [
    "tesla.battery.upgrade_battery()\n",
    "tesla.battery.get_range()"
   ]
  },
  {
   "cell_type": "code",
   "execution_count": null,
   "id": "f74496d4",
   "metadata": {},
   "outputs": [],
   "source": [
    "#9.4\n",
    "导入类跟之前的道路模块思路是一样的，稍微要注意的是如果单独导入子类会出现错误，因为它需要访问父类，记得也导入父类。"
   ]
  },
  {
   "cell_type": "code",
   "execution_count": 106,
   "id": "9d6168d7",
   "metadata": {},
   "outputs": [],
   "source": [
    "#9.5\n",
    "#9-13\n",
    "from random import randint\n",
    "\n",
    "class Die:\n",
    "    def __init__(self, sides=6):\n",
    "        self.sides = sides\n",
    "    def roll_die(self):\n",
    "        random_number = randint(1,self.sides)\n",
    "        return random_number        "
   ]
  },
  {
   "cell_type": "code",
   "execution_count": null,
   "id": "11f934d1",
   "metadata": {},
   "outputs": [],
   "source": [
    "results = []\n",
    "die_6 = Die()\n",
    "\n",
    "for times in range(10):\n",
    "    result = die_1.roll_die()\n",
    "    results.append(result)\n",
    "    \n",
    "print(\"Here are the numbers of the 6-sided die:\")\n",
    "\n",
    "for item in results:\n",
    "    print(f\"- {item}\")\n"
   ]
  },
  {
   "cell_type": "code",
   "execution_count": null,
   "id": "f23f4e85",
   "metadata": {},
   "outputs": [],
   "source": [
    "results = []\n",
    "die_10 = Die(10)\n",
    "\n",
    "for times in range(10):\n",
    "    result = die_10.roll_die()\n",
    "    results.append(result)\n",
    "    \n",
    "print(\"Here are the numbers of the 10-sided die:\")\n",
    "\n",
    "for item in results:\n",
    "    print(f\"- {item}\")"
   ]
  },
  {
   "cell_type": "code",
   "execution_count": null,
   "id": "d9a1ede1",
   "metadata": {},
   "outputs": [],
   "source": [
    "#20面的骰子+掷10次，从头写\n",
    "from random import randint\n",
    "\n",
    "class Die:\n",
    "    def __init__(self,sides=6):\n",
    "        self.sides = sides\n",
    "    def roll_die(self):\n",
    "        return randint(1,self.sides)\n",
    "\n",
    "results = []\n",
    "die20 = Die(20)\n",
    "for times in range(10):\n",
    "    result = die20.roll_die()\n",
    "    results.append(result)\n",
    "\n",
    "print(\"Here are the results of a 20-sided die:\")\n",
    "for item in results:\n",
    "    print(f\" - {item}\")"
   ]
  },
  {
   "cell_type": "code",
   "execution_count": 117,
   "id": "1e6e6bdd",
   "metadata": {},
   "outputs": [
    {
     "name": "stdout",
     "output_type": "stream",
     "text": [
      "The winning numbers are:\n",
      "-c\n",
      "-4\n",
      "-1\n",
      "-e\n"
     ]
    }
   ],
   "source": [
    "#9-14\n",
    "from random import choice\n",
    "\n",
    "lottery = [1,2,3,4,5,6,7,8,9,10,'a','b','c','d','e']\n",
    "results = []\n",
    "\n",
    "for times in range(4):\n",
    "    num = choice(lottery)\n",
    "    results.append(num)\n",
    "\n",
    "print(\"The winning numbers are:\")\n",
    "for item in results:\n",
    "    print(f\"-{item}\")"
   ]
  },
  {
   "cell_type": "code",
   "execution_count": 118,
   "id": "9d4a97b1",
   "metadata": {},
   "outputs": [
    {
     "name": "stdout",
     "output_type": "stream",
     "text": [
      "We have a winning ticket!\n",
      "Your ticket: [8, 4, 1, 3]\n",
      "Winning ticket: [4, 3, 1, 8]\n",
      "It only took 1123 tries to win!\n"
     ]
    }
   ],
   "source": [
    "#9-15\n",
    "from random import choice\n",
    "\n",
    "def get_winning_ticket(possibilities):\n",
    "    \"\"\"Return a winning ticket from a set of possibilities.\"\"\"\n",
    "    winning_ticket = []\n",
    "\n",
    "    # We don't want to repeat winning numbers or letters, so we'll use a\n",
    "    #   while loop.\n",
    "    while len(winning_ticket) < 4:\n",
    "        pulled_item = choice(possibilities)\n",
    "\n",
    "        # Only add the pulled item to the winning ticket if it hasn't\n",
    "        #   already been pulled.\n",
    "        if pulled_item not in winning_ticket:\n",
    "            winning_ticket.append(pulled_item)\n",
    "\n",
    "    return winning_ticket\n",
    "\n",
    "def check_ticket(played_ticket, winning_ticket):\n",
    "    # Check all elements in the played ticket. If any are not in the \n",
    "    #   winning ticket, return False.\n",
    "    for element in played_ticket:\n",
    "        if element not in winning_ticket:\n",
    "            return False\n",
    "\n",
    "    # We must have a winning ticket!\n",
    "    return True\n",
    "\n",
    "def make_random_ticket(possibilities):\n",
    "    \"\"\"Return a random ticket from a set of possibilities.\"\"\"\n",
    "    ticket = []\n",
    "    # We don't want to repeat numbers or letters, so we'll use a while loop.\n",
    "    while len(ticket) < 4:\n",
    "        pulled_item = choice(possibilities)\n",
    "\n",
    "        # Only add the pulled item to the ticket if it hasn't already\n",
    "        #   been pulled.\n",
    "        if pulled_item not in ticket:\n",
    "            ticket.append(pulled_item)\n",
    "\n",
    "    return ticket\n",
    "\n",
    "\n",
    "possibilities = [1, 2, 3, 4, 5, 6, 7, 8, 9, 10, 'a', 'b', 'c', 'd', 'e']\n",
    "winning_ticket = get_winning_ticket(possibilities)\n",
    "\n",
    "plays = 0\n",
    "won = False\n",
    "\n",
    "# Let's set a max number of tries, in case this takes forever!\n",
    "max_tries = 1_000_000\n",
    "\n",
    "while not won:\n",
    "    new_ticket = make_random_ticket(possibilities)\n",
    "    won = check_ticket(new_ticket, winning_ticket)\n",
    "    plays += 1\n",
    "    if plays >= max_tries:\n",
    "        break\n",
    "\n",
    "if won:\n",
    "    print(\"We have a winning ticket!\")\n",
    "    print(f\"Your ticket: {new_ticket}\")\n",
    "    print(f\"Winning ticket: {winning_ticket}\")\n",
    "    print(f\"It only took {plays} tries to win!\")\n",
    "else:\n",
    "    print(f\"Tried {plays} times, without pulling a winner. :(\")\n",
    "    print(f\"Your ticket: {new_ticket}\")\n",
    "    print(f\"Winning ticket: {winning_ticket}\")"
   ]
  },
  {
   "cell_type": "code",
   "execution_count": null,
   "id": "0ad5f849",
   "metadata": {},
   "outputs": [],
   "source": []
  }
 ],
 "metadata": {
  "kernelspec": {
   "display_name": "Python 3 (ipykernel)",
   "language": "python",
   "name": "python3"
  },
  "language_info": {
   "codemirror_mode": {
    "name": "ipython",
    "version": 3
   },
   "file_extension": ".py",
   "mimetype": "text/x-python",
   "name": "python",
   "nbconvert_exporter": "python",
   "pygments_lexer": "ipython3",
   "version": "3.10.1"
  }
 },
 "nbformat": 4,
 "nbformat_minor": 5
}
