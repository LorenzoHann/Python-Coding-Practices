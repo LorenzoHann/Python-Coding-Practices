{
 "cells": [
  {
   "cell_type": "code",
   "execution_count": null,
   "id": "881a40f5",
   "metadata": {},
   "outputs": [],
   "source": [
    "#3.1\n",
    "#列表由一系列按【特定顺序aka有序】排列的元素组成，用方括号([])表示列表，并用逗号分隔其中的元素\n",
    "bicycles = ['trek', 'cannondale', 'redline', 'specialized']\n",
    "print(bicycles) #打印出来也是会显示方括号的"
   ]
  },
  {
   "cell_type": "code",
   "execution_count": null,
   "id": "24bd0dfe",
   "metadata": {},
   "outputs": [],
   "source": [
    "#访问任意元素就索引\n",
    "languages = ['python','r','sql']\n",
    "print(languages[0]) #索引是不会出现括号的\n",
    "print(languages[0].title())"
   ]
  },
  {
   "cell_type": "code",
   "execution_count": null,
   "id": "90a86780",
   "metadata": {},
   "outputs": [],
   "source": [
    "#3-1~3-3\n",
    "names = ['ziwi','lolo','fei']\n",
    "print(names[2].title())\n",
    "print(f\"How are you doing {names[2].title()}?\")\n",
    "transports=['motor','bike','scooter']\n",
    "print(f\"I go to school by {transports[0].upper()}.\")"
   ]
  },
  {
   "cell_type": "code",
   "execution_count": null,
   "id": "d1fad40f",
   "metadata": {},
   "outputs": [],
   "source": [
    "#3.2\n",
    "#修改list元素\n",
    "own = ['bike','car','scooter']\n",
    "own[2]='plane'\n",
    "print(own)\n",
    "#附加元素到末尾\n",
    "own.append('skate board')\n",
    "#中间插入元素\n",
    "own.insert(2,'hot sauce')\n",
    "print(own)\n",
    "#删除元素,不使用\n",
    "del own[2]\n",
    "#删除元素，使用，且用位置locate：将【末尾】元素从列表中删除，并接着使用它的值,指定位置的话使用pop(x),注意使用之后元素就不在列表中了\n",
    "popone = own.pop()\n",
    "print(f\"I abandoned the last one I puechased, which is the {popone}.\")\n",
    "#删除元素，使用，不知道位置，只知道他是啥\n",
    "own.remove('bike')\n",
    "print(own)\n",
    "#方法remove()只删除第一个指定的值。如果要删除的值可能在列表中出现多次，就需要使用【循环】来确保将每个值都删除。"
   ]
  },
  {
   "cell_type": "code",
   "execution_count": null,
   "id": "c6e1dc6e",
   "metadata": {},
   "outputs": [],
   "source": [
    "#3-4\n",
    "names = ['SZA','Lexa','Fei','Doja']\n",
    "#3-5\n",
    "print(f\"{names[-1]} actually cannot make it.\")\n",
    "names[-1]='ziwi'\n",
    "print(f\"Welcome to my dinner {names[2]}.\")\n",
    "#3-6\n",
    "names.insert(0,'fiona')\n",
    "names.insert(3,'lolo')\n",
    "names.append('jojo')\n",
    "print(names)\n",
    "#3-7\n",
    "bye = names.pop()\n",
    "print(f\"Sorry {bye.title()}.\")\n",
    "bye = names.pop()\n",
    "print(f\"Sorry {bye.title()}.\")\n",
    "bye = names.pop()\n",
    "print(f\"Sorry {bye.title()}.\")\n",
    "bye = names.pop()\n",
    "print(f\"Sorry {bye.title()}.\")\n",
    "bye = names.pop()\n",
    "print(f\"Sorry {bye.title()}.\")\n",
    "bye = names.pop()\n",
    "print(f\"Sorry {bye.title()}.\")\n",
    "del names[0]\n",
    "print(names)"
   ]
  },
  {
   "cell_type": "code",
   "execution_count": null,
   "id": "09990e51",
   "metadata": {},
   "outputs": [],
   "source": [
    "#3.3\n",
    "#[永久]改变排序\n",
    "cars = ['benz', 'rollsroyce', 'lambo', 'bugatti']\n",
    "cars.sort()\n",
    "print(cars)\n",
    "cars.sort(reverse=True) \n",
    "print(cars)\n",
    "#[临时]排序，注意这个是在括号里面\n",
    "sorted(cars)\n",
    "sorted(cars,reverse=True)\n",
    "print(cars) #应该还是返回的第二排的内容\n",
    "#反转列表排序，不是按照字母顺序反转，只是按照排列顺序，也是永久的\n",
    "cars.reverse()\n",
    "print(cars)\n",
    "#确定长度\n",
    "print(len(cars))"
   ]
  },
  {
   "cell_type": "code",
   "execution_count": null,
   "id": "5f936ac2",
   "metadata": {},
   "outputs": [],
   "source": [
    "#3-8\n",
    "places=['london','paris','egypt','ice land','italy']\n",
    "print(sorted(places))\n",
    "print(places)\n",
    "print(sorted(places,reverse=True))\n",
    "print(places)\n",
    "places.reverse()\n",
    "print(places)\n",
    "places.reverse()\n",
    "print(places)\n",
    "places.sort()\n",
    "print(places)\n",
    "places.sort(reverse=True)\n",
    "print(places)"
   ]
  },
  {
   "cell_type": "code",
   "execution_count": null,
   "id": "019e10c0",
   "metadata": {},
   "outputs": [],
   "source": [
    "#3-9\n",
    "print(len(names))"
   ]
  },
  {
   "cell_type": "code",
   "execution_count": 40,
   "id": "5a3cdf69",
   "metadata": {},
   "outputs": [
    {
     "ename": "IndexError",
     "evalue": "list index out of range",
     "output_type": "error",
     "traceback": [
      "\u001b[0;31m---------------------------------------------------------------------------\u001b[0m",
      "\u001b[0;31mIndexError\u001b[0m                                Traceback (most recent call last)",
      "Input \u001b[0;32mIn [40]\u001b[0m, in \u001b[0;36m<module>\u001b[0;34m\u001b[0m\n\u001b[1;32m      1\u001b[0m \u001b[38;5;66;03m#3.4\u001b[39;00m\n\u001b[1;32m      2\u001b[0m \u001b[38;5;66;03m#3-11\u001b[39;00m\n\u001b[1;32m      3\u001b[0m mistakes \u001b[38;5;241m=\u001b[39m [\u001b[38;5;124m'\u001b[39m\u001b[38;5;124mnobull\u001b[39m\u001b[38;5;124m'\u001b[39m,\u001b[38;5;124m'\u001b[39m\u001b[38;5;124mrogue\u001b[39m\u001b[38;5;124m'\u001b[39m,\u001b[38;5;124m'\u001b[39m\u001b[38;5;124mnike\u001b[39m\u001b[38;5;124m'\u001b[39m]\n\u001b[0;32m----> 4\u001b[0m \u001b[38;5;28mprint\u001b[39m(\u001b[43mmistakes\u001b[49m\u001b[43m[\u001b[49m\u001b[38;5;241;43m-\u001b[39;49m\u001b[38;5;241;43m4\u001b[39;49m\u001b[43m]\u001b[49m)\n",
      "\u001b[0;31mIndexError\u001b[0m: list index out of range"
     ]
    }
   ],
   "source": [
    "#3.4\n",
    "#3-11\n",
    "mistakes = ['nobull','rogue','nike']\n",
    "print(mistakes[-4])"
   ]
  },
  {
   "cell_type": "code",
   "execution_count": null,
   "id": "b2d1cbe0",
   "metadata": {},
   "outputs": [],
   "source": []
  }
 ],
 "metadata": {
  "kernelspec": {
   "display_name": "Python 3 (ipykernel)",
   "language": "python",
   "name": "python3"
  },
  "language_info": {
   "codemirror_mode": {
    "name": "ipython",
    "version": 3
   },
   "file_extension": ".py",
   "mimetype": "text/x-python",
   "name": "python",
   "nbconvert_exporter": "python",
   "pygments_lexer": "ipython3",
   "version": "3.10.1"
  }
 },
 "nbformat": 4,
 "nbformat_minor": 5
}
