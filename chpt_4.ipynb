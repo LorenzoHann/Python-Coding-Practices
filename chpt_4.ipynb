{
 "cells": [
  {
   "cell_type": "code",
   "execution_count": null,
   "id": "240aeb90",
   "metadata": {},
   "outputs": [],
   "source": [
    "#4.1\n",
    "#for循环遍历，在for循环后面，【没有缩进】的代码都只执行一次，不会重复执行\n",
    "#4.2\n",
    "#Python根据缩进来判断代码行与前一个代码行的关系，只有要【在for循环中】对每个元素【执行的代码要缩进】"
   ]
  },
  {
   "cell_type": "code",
   "execution_count": null,
   "id": "cd421a20",
   "metadata": {},
   "outputs": [],
   "source": [
    "#4-1\n",
    "food = ['hotpot','pizza','steak','noodles']\n",
    "for items in food:\n",
    "    print(f\"I like {items}!\")\n",
    "print('I like eating foods!')\n",
    "\n",
    "#4-2\n",
    "animals = ['dog','lion','horse']\n",
    "for animal in animals:\n",
    "    print(animal)\n",
    "    \n",
    "for animal in animals:\n",
    "    print(f\"When I have money, I will have a {animal.upper()}!\")\n",
    "print(\"They all are my firnds!\")         "
   ]
  },
  {
   "cell_type": "code",
   "execution_count": null,
   "id": "24c8507f",
   "metadata": {},
   "outputs": [],
   "source": [
    "#4.3\n",
    "#生成一系列数\n",
    "for value in range(1, 5):\n",
    "     print(value) #注意这里只会打印四个数字1、2、3、4，差一行为~\n",
    "#可以使用list生成数字列表\n",
    "print(list(range(1,5)))\n",
    "#可以指定步长\n",
    "print(list(range(2,11,2))) #从2开始数，然后不断加2,直到达到或者超过11为止"
   ]
  },
  {
   "cell_type": "code",
   "execution_count": 4,
   "id": "2b87fd7b",
   "metadata": {},
   "outputs": [
    {
     "name": "stdout",
     "output_type": "stream",
     "text": [
      "[1, 4, 9, 16, 25, 36, 49, 64, 81, 100]\n"
     ]
    }
   ],
   "source": [
    "#表演一下生成平方数 :)\n",
    "numbers = []\n",
    "for i in range(1,11):\n",
    "    numbers.append(i**2)\n",
    "print(numbers)"
   ]
  },
  {
   "cell_type": "code",
   "execution_count": 5,
   "id": "f755e5e9",
   "metadata": {},
   "outputs": [
    {
     "name": "stdout",
     "output_type": "stream",
     "text": [
      "[1, 4, 9, 16, 25, 36, 49, 64, 81, 100]\n"
     ]
    }
   ],
   "source": [
    "#4.3.4 列表解析aka list comprehension\n",
    "squares = [value**2 for value in range(1, 11)]\n",
    "#列表名，表达式，for循环\n",
    "print(squares)"
   ]
  },
  {
   "cell_type": "code",
   "execution_count": null,
   "id": "25311201",
   "metadata": {},
   "outputs": [],
   "source": [
    "#4-3\n",
    "for number in range(1,21):\n",
    "    print(number)"
   ]
  },
  {
   "cell_type": "code",
   "execution_count": 9,
   "id": "186556ad",
   "metadata": {},
   "outputs": [
    {
     "name": "stdout",
     "output_type": "stream",
     "text": [
      "1\n",
      "1000000\n",
      "500000500000\n"
     ]
    }
   ],
   "source": [
    "#4-5    \n",
    "sum_list = list(range(1,1000001))\n",
    "print(min(sum_list));print(max(sum_list))\n",
    "print(sum(sum_list))"
   ]
  },
  {
   "cell_type": "code",
   "execution_count": 10,
   "id": "8eed363f",
   "metadata": {},
   "outputs": [
    {
     "name": "stdout",
     "output_type": "stream",
     "text": [
      "[1, 3, 5, 7, 9, 11, 13, 15, 17, 19]\n"
     ]
    }
   ],
   "source": [
    "#4-6\n",
    "odd_list = list(range(1,20,2))\n",
    "print(odd_list)"
   ]
  },
  {
   "cell_type": "code",
   "execution_count": null,
   "id": "30907a36",
   "metadata": {},
   "outputs": [],
   "source": [
    "#4-7\n",
    "for triple in range(3,31,3):\n",
    "    print(triple)"
   ]
  },
  {
   "cell_type": "code",
   "execution_count": null,
   "id": "7b5dd6c1",
   "metadata": {},
   "outputs": [],
   "source": [
    "#4-8\n",
    "for cube in range(1,11):\n",
    "    print(cube**3)"
   ]
  },
  {
   "cell_type": "code",
   "execution_count": 16,
   "id": "f472ab23",
   "metadata": {},
   "outputs": [
    {
     "name": "stdout",
     "output_type": "stream",
     "text": [
      "[1, 8, 27, 64, 125, 216, 343, 512, 729, 1000]\n"
     ]
    }
   ],
   "source": [
    "#4-9\n",
    "cubes = [i**3 for i in range(1,11)];print(cubes)"
   ]
  },
  {
   "cell_type": "code",
   "execution_count": 22,
   "id": "fa574efa",
   "metadata": {},
   "outputs": [
    {
     "name": "stdout",
     "output_type": "stream",
     "text": [
      "['hooray', 'whatup']\n"
     ]
    }
   ],
   "source": [
    "#4.4\n",
    "list = ['bam','hooray','whatup','liz','dunno']\n",
    "print(list[1:3]) #注意取到specify的前一个\n",
    "#复制列表要使用: new_list = my_list[:]，这样才是2个独立的列表\n",
    "#不要使用new_list = my_list，这里只是将前者赋给（关联）后者，他们俩是一个东西"
   ]
  },
  {
   "cell_type": "code",
   "execution_count": null,
   "id": "3469ce94",
   "metadata": {},
   "outputs": [],
   "source": [
    "#4-10\n",
    "pizzas = ['salami','Pepperoni','Hawaii','ham&cheese','bacon&egg']\n",
    "\n",
    "print(\"The first three items in the list are:\")\n",
    "for item in pizzas[:3]:\n",
    "    print(f'{item}')\n",
    "print(\"The middle three items in the list are:\")\n",
    "for item in pizzas[1:4]:\n",
    "    print(f'{item}')\n",
    "print(\"The last three items in the list are:\")\n",
    "for item in pizzas[-3:]:\n",
    "    print(f'{item}')"
   ]
  },
  {
   "cell_type": "code",
   "execution_count": null,
   "id": "ccc5eee9",
   "metadata": {},
   "outputs": [],
   "source": [
    "#4-11\n",
    "ziwi_pizza = pizzas[:]\n",
    "ziwi_pizza.append('shit')\n",
    "print('My fav pizzas are:')\n",
    "for pizza in pizzas:\n",
    "    print(pizza)\n",
    "print(\"Ziwi's fav pizzas are:\");print(ziwi_pizza)"
   ]
  },
  {
   "cell_type": "code",
   "execution_count": 34,
   "id": "72757d1a",
   "metadata": {},
   "outputs": [
    {
     "name": "stdout",
     "output_type": "stream",
     "text": [
      "(4, 5)\n"
     ]
    }
   ],
   "source": [
    "#4.5元组tuple - 不可修改的元素，使用逗号来标识的，圆括号只是为了看起来整洁\n",
    "#所以如果只有一个元素，需要在这个元素后面加上逗号：my_t = (3,)\n",
    "#dimensions = (200, 50); dimensions[0] = 250会报错\n",
    "#虽然不能修改元组的元素，但可以给存储元组的变量赋值aka重新定义元组\n",
    "random = (1,2,3)\n",
    "random = (4,5)\n",
    "print(random)"
   ]
  },
  {
   "cell_type": "code",
   "execution_count": null,
   "id": "af6f6b24",
   "metadata": {},
   "outputs": [],
   "source": [
    "#4-13\n",
    "buffet = ('chicken','steak','oyster','noodles','sashimi')\n",
    "for item in buffet:\n",
    "    print(item)\n",
    "buffet = ('steak','oyster')\n",
    "for i in buffet:\n",
    "    print(i)"
   ]
  },
  {
   "cell_type": "code",
   "execution_count": null,
   "id": "34bfb57e",
   "metadata": {},
   "outputs": [],
   "source": []
  }
 ],
 "metadata": {
  "kernelspec": {
   "display_name": "Python 3 (ipykernel)",
   "language": "python",
   "name": "python3"
  },
  "language_info": {
   "codemirror_mode": {
    "name": "ipython",
    "version": 3
   },
   "file_extension": ".py",
   "mimetype": "text/x-python",
   "name": "python",
   "nbconvert_exporter": "python",
   "pygments_lexer": "ipython3",
   "version": "3.10.1"
  }
 },
 "nbformat": 4,
 "nbformat_minor": 5
}
