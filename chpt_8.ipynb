{
 "cells": [
  {
   "cell_type": "code",
   "execution_count": null,
   "id": "b160f5cd",
   "metadata": {},
   "outputs": [],
   "source": [
    "#8.1\n",
    " def greet_user():\n",
    "❷ \"\"\"显示简单的问候语。\"\"\" #处的文本是称为文档字符串(docstring)的注释，描述了函数是做什么的。文档字符串用三引号括起，Python使用它们来生成有关程序中函数的文档。\n",
    "❸ print(\"Hello!\")\n",
    "❹ greet_user()"
   ]
  },
  {
   "cell_type": "code",
   "execution_count": null,
   "id": "5bb8812c",
   "metadata": {},
   "outputs": [],
   "source": [
    "#8-1\n",
    "def display_message():\n",
    "    print('Python')\n",
    "display_message()    "
   ]
  },
  {
   "cell_type": "code",
   "execution_count": null,
   "id": "4dba7211",
   "metadata": {},
   "outputs": [],
   "source": [
    "#8-2\n",
    "def fav_book(book):\n",
    "    print(f'My favorit book is {book.title()}.')\n",
    "fav_book('case in point')"
   ]
  },
  {
   "cell_type": "code",
   "execution_count": null,
   "id": "b8b6867a",
   "metadata": {},
   "outputs": [],
   "source": [
    "#8-2\n",
    "#位置实参 - 实参和形参顺序相同\n",
    "def describe_pet(animal_type, pet_name)\n",
    "describe_pet('hamster', 'harry')\n",
    "\n",
    "#关键字实参 - 实参由变量名和值组成\n",
    "def describe_pet(animal_type, pet_name)\n",
    "describe_pet(animal_type='hamster', pet_name='harry')\n",
    "\n",
    "#默认值\n",
    "def describe_pet(pet_name, animal_type='dog')\n",
    "#如果函数调用中只包含宠物的名字，这个实参将关联到函数定义中的【第一个】形参。这就是需要将pet_name放在形参列表开头的原因。\n",
    "describe_pet(pet_name='willie')\n",
    "#使用默认值时，必须先在形参列表中列出【没有默认值】的形参，再列出有默认值的实参。这让Python依然能够正确地解读位置实参。\n",
    "describe_pet('willie')\n"
   ]
  },
  {
   "cell_type": "code",
   "execution_count": null,
   "id": "bf6e1f09",
   "metadata": {},
   "outputs": [],
   "source": [
    "#8-3\n",
    "def make_shirt(size,prints):\n",
    "    print(f\"This is a {size.title()} shirt with '{prints}' on it.\")\n",
    "\n",
    "make_shirt('s','hell no')"
   ]
  },
  {
   "cell_type": "code",
   "execution_count": null,
   "id": "9ad1bca6",
   "metadata": {},
   "outputs": [],
   "source": [
    "#8-4\n",
    "def make_shirt(size='L',prints='I love Python.'):\n",
    "    print(f\"This is a {size.title()} shirt with '{prints}' on it.\")\n",
    "\n",
    "make_shirt()\n",
    "make_shirt(size='m')\n",
    "make_shirt(prints='damn')"
   ]
  },
  {
   "cell_type": "code",
   "execution_count": null,
   "id": "44f7f0e8",
   "metadata": {},
   "outputs": [],
   "source": [
    "#8-5\n",
    "def describe_city(city,country='China'):\n",
    "    print(f\"{city.title()} is in {country.title()}.\")\n",
    "\n",
    "describe_city('wuhan')\n",
    "describe_city('shanghai')\n",
    "describe_city('nyc','usa')"
   ]
  },
  {
   "cell_type": "code",
   "execution_count": null,
   "id": "57a6f26c",
   "metadata": {},
   "outputs": [],
   "source": [
    "#8.3返回值\n",
    "def get_formatted_name(first_name, last_name, middle_name=''): \"\"\"为形参设置default放在最后面\"\"\"\n",
    "    if middle_name: \"\"\"如果有中间名，就会为ture而实行这一段\"\"\"\n",
    "        full_name = f\"{first_name} {middle_name} {last_name}\"\n",
    "    else:\n",
    "        full_name = f\"{first_name} {last_name}\"\n",
    "    return full_name.title()\n",
    "\n",
    "musician = get_formatted_name('jimi', 'hendrix')\n",
    "print(musician)\n",
    "\n",
    "musician1 = get_formatted_name('john', 'hooker', 'lee')\n",
    "print(musician1)"
   ]
  },
  {
   "cell_type": "code",
   "execution_count": null,
   "id": "9db046fe",
   "metadata": {},
   "outputs": [],
   "source": [
    "#put it togetehr example\n",
    "\n",
    "def get_formatted_name(first_name,last_name):\n",
    "    full_name = f\"{first_name} {last_name}\"\n",
    "    return full_name.title()\n",
    "\n",
    "while True:\n",
    "    print(\"\\nPlease tell me your name:\")\n",
    "    print(\"(enter 'q' to quit)\")\n",
    "    \n",
    "    f_name = input('First name:')\n",
    "    if f_name=='q':\n",
    "        break\n",
    "    l_name = input('Last name:')\n",
    "    if l_name=='q':\n",
    "        break\n",
    "    \n",
    "    formatted_name = get_formatted_name(f_name,l_name)\n",
    "    print(f\"\\nHey, {formatted_name}!\")\n",
    "   "
   ]
  },
  {
   "cell_type": "code",
   "execution_count": 28,
   "id": "751f3173",
   "metadata": {},
   "outputs": [
    {
     "name": "stdout",
     "output_type": "stream",
     "text": [
      "Wuhan,China\n",
      "Shanghai,China\n",
      "New York,Usa\n"
     ]
    }
   ],
   "source": [
    "#8-6\n",
    "def city_country(city,country):\n",
    "    print(f\"{city.title()},{country.title()}\")\n",
    "    \n",
    "city_country('wuhan','china')\n",
    "city_country('shanghai','china')\n",
    "city_country('new york','usa')"
   ]
  },
  {
   "cell_type": "code",
   "execution_count": 46,
   "id": "354b7fab",
   "metadata": {},
   "outputs": [
    {
     "name": "stdout",
     "output_type": "stream",
     "text": [
      "Macau,China\n"
     ]
    }
   ],
   "source": [
    "#8-6-2使用return\n",
    "def city_country(city,country):\n",
    "    info = f\"{city},{country}\"\n",
    "    return info.title()\n",
    "    \n",
    "trial = city_country('macau','china')\n",
    "print(trial)"
   ]
  },
  {
   "cell_type": "code",
   "execution_count": 55,
   "id": "7cc12cfe",
   "metadata": {},
   "outputs": [
    {
     "data": {
      "text/plain": [
       "{'Artist': 'JB', 'Album': 'Justice'}"
      ]
     },
     "execution_count": 55,
     "metadata": {},
     "output_type": "execute_result"
    }
   ],
   "source": [
    "#8-7\n",
    "\n",
    "def make_album(artist,drop):\n",
    "    collections['Artist'] = artist\n",
    "    collections['Album'] = drop\n",
    "    return collections\n",
    "\n",
    "make_album('JB','Justice')   \n"
   ]
  },
  {
   "cell_type": "code",
   "execution_count": 53,
   "id": "744ca153",
   "metadata": {},
   "outputs": [
    {
     "name": "stdout",
     "output_type": "stream",
     "text": [
      "{'Artist': 'JB', 'Album': 'Justice'}\n"
     ]
    }
   ],
   "source": [
    "#8-7按照书本思路的答案\n",
    "def make_album(artist,drop):\n",
    "    collections = {'Artist':artist,'Album':drop}\n",
    "    return collections\n",
    "\n",
    "musician = make_album('JB','Justice')   \n",
    "print(musician)"
   ]
  },
  {
   "cell_type": "code",
   "execution_count": 59,
   "id": "a7c62898",
   "metadata": {},
   "outputs": [
    {
     "name": "stdout",
     "output_type": "stream",
     "text": [
      "{'Artist': 'JB', 'Album': 'Justice'}\n",
      "{'Artist': 'doja cat', 'Album': 'planet her', 'Number of songs': 6}\n"
     ]
    }
   ],
   "source": [
    "#8-7-2\n",
    "def make_album(artist,drop,number=None):\n",
    "    if number:\n",
    "        collections = {'Artist':artist,'Album':drop,'Number of songs':number}\n",
    "    else:\n",
    "        collections = {'Artist':artist,'Album':drop}\n",
    "    return collections\n",
    "\n",
    "musician = make_album('JB','Justice')   \n",
    "print(musician)\n",
    "\n",
    "musician1 = make_album('doja cat','planet her',6)   \n",
    "print(musician1)"
   ]
  },
  {
   "cell_type": "code",
   "execution_count": null,
   "id": "68f73d81",
   "metadata": {},
   "outputs": [],
   "source": [
    "#8-8\n",
    "def make_album(artist,drop):\n",
    "    collections = {'Artist':artist,'Album':drop}\n",
    "    return collections\n",
    "\n",
    "while True:\n",
    "    print(\"\\nWe would like to know more abt you.\")\n",
    "    print(\"(Enter 'q' if u want to quit the survey.)\")\n",
    "    \n",
    "    singer = input(\"Who is your fav singer?\")\n",
    "    if singer=='q':\n",
    "        break\n",
    "    album_name = input(\"What is your fav album of him/her?\")\n",
    "    if album_name=='q':\n",
    "        break\n",
    "    info = make_album(artist = singer, drop = album_name)\n",
    "    print(info)"
   ]
  },
  {
   "cell_type": "code",
   "execution_count": null,
   "id": "2b5485f1",
   "metadata": {},
   "outputs": [],
   "source": [
    "#8.4传递【列表】\n",
    "def greet_users(names):\n",
    "    for name in names:\n",
    "        print(f\"Hey,{name.title()}!\")\n",
    "\n",
    "names = ['lorenzo','ziwi','kyd']\n",
    "greet_users(names)"
   ]
  },
  {
   "cell_type": "code",
   "execution_count": null,
   "id": "e3492684",
   "metadata": {},
   "outputs": [],
   "source": [
    "#在函数中修改列表，注意在函数中对这个列表进行的所有修改都是永久性的\n",
    "# 首先创建一个列表，其中包含一些要打印的设计。\n",
    "\n",
    "unprinted_designs = ['phone case', 'robot pendant', 'dodecahedron'] \n",
    "completed_models = []\n",
    "\n",
    "# 模拟打印每个设计，直到没有未打印的设计为止。\n",
    "# 打印每个设计后，都将其移到列表completed_models中。\n",
    "\n",
    "while unprinted_designs:\n",
    "    current_design = unprinted_designs.pop()\n",
    "    print(f\"Printing model: {current_design}\")\n",
    "    completed_models.append(current_design)\n",
    "    \n",
    "# 显示打印好的所有模型。\n",
    "\n",
    "print(\"\\nThe following models have been printed:\") \n",
    "for completed_model in completed_models:\n",
    "    print(completed_model)"
   ]
  },
  {
   "cell_type": "code",
   "execution_count": null,
   "id": "85165583",
   "metadata": {},
   "outputs": [],
   "source": [
    "#为了使得效率更高，可将以上改成两个函数，一个负责处理打印工作，一个概述打印了哪些\n",
    "\n",
    "def print_model(un_models,com_models):\n",
    "    if un_models:\n",
    "        for model in un_models:\n",
    "            current = un_models.pop(model)\n",
    "            com_models = com_models.append(current)\n",
    "            print(f\"Now {model.upper()} is under processing.\")\n",
    "\n",
    "def completed(com_models):\n",
    "    print(\"Here are the finihsed ones:\")\n",
    "    if com_models:\n",
    "        for item in com_models:\n",
    "            print(item)\n",
    "\n",
    "un_models = ['essentials','fog','wrangler']\n",
    "com_models = []\n",
    "\n",
    "print_model(un_models,com_models)\n",
    "completed(com_models)\n"
   ]
  },
  {
   "cell_type": "code",
   "execution_count": null,
   "id": "fde16453",
   "metadata": {},
   "outputs": [],
   "source": [
    "def print_model(un_models,com_models):\n",
    "    while un_models:\n",
    "        current = un_models.pop()\n",
    "        print(f\"Now {current.upper()} is under processing.\\n\")\n",
    "        com_models.append(current)\n",
    "        \n",
    "\"\"\"注意一个问题， 如果写com_models = com_models.append(current)的话是会出错的\"\"\"\n",
    "\"\"\"list是immutable的，可以直接使用append attribute，但是使用上述的话实际上是在：\"\"\"\n",
    "\"\"\"doing an inplace operation, an operation that modifies the object and returns nothing \"\"\"\n",
    "        \n",
    "\n",
    "def completed(com_models):\n",
    "    print(\"Here are the finihsed ones:\\n\")\n",
    "    for item in com_models:\n",
    "        print(item.title())\n",
    "\n",
    "un_models = ['essentials','fog','wrangler']\n",
    "com_models = []\n",
    "\n",
    "print_model(un_models,com_models)\n",
    "completed(com_models)\n",
    "\n",
    "#这样modular函数的优势：\n",
    "#更清晰易懂，容易修护和更改迭代，也可以单个使用函数，适合划分步骤"
   ]
  },
  {
   "cell_type": "code",
   "execution_count": null,
   "id": "14b2195e",
   "metadata": {},
   "outputs": [],
   "source": [
    "#禁止函数修改列表 - 比如搞保留原列表以备份，可以将列表的副本切片传给函数\n",
    "copy_list = un_models[:]"
   ]
  },
  {
   "cell_type": "code",
   "execution_count": 82,
   "id": "84ff3db1",
   "metadata": {},
   "outputs": [
    {
     "name": "stdout",
     "output_type": "stream",
     "text": [
      "You are thinking:\n",
      " Fei not responding.\n",
      "You are thinking:\n",
      " Deja vu.\n",
      "You are thinking:\n",
      " Kyd shares my emotions.\n"
     ]
    }
   ],
   "source": [
    "#8-9\n",
    "\n",
    "msg = ['Fei not responding','Deja vu','Kyd shares my emotions']\n",
    "\n",
    "def show_msg(random_list):\n",
    "    for item in random_list:\n",
    "        print(f\"You are thinking:\\n {item}.\")\n",
    "\n",
    "show_msg(msg)"
   ]
  },
  {
   "cell_type": "code",
   "execution_count": null,
   "id": "b20a6cf6",
   "metadata": {},
   "outputs": [],
   "source": [
    "#8-10\n",
    "msg = ['Fei not responding','Deja vu','Kyd shares my emotions']\n",
    "sent = []\n",
    "\n",
    "def send_msg(want_to_say):\n",
    "    while want_to_say:\n",
    "        random = want_to_say.pop()\n",
    "        print(F\"U are sending '{random}' right now.\")\n",
    "        sent.append(random)\n",
    "\n",
    "send_msg(msg)\n",
    "print(msg)\n",
    "print(sent)"
   ]
  },
  {
   "cell_type": "code",
   "execution_count": null,
   "id": "6aad1eea",
   "metadata": {},
   "outputs": [],
   "source": [
    "#8-11\n",
    "msg = ['Fei not responding','Deja vu','Kyd shares my emotions']\n",
    "sent = []\n",
    "\n",
    "def send_msg(want_to_say):\n",
    "    while want_to_say:\n",
    "        random = want_to_say.pop()\n",
    "        print(F\"U are sending '{random}' right now.\")\n",
    "        sent.append(random)\n",
    "\n",
    "send_msg(msg[:])\n",
    "print(msg)\n",
    "print(sent)"
   ]
  },
  {
   "cell_type": "code",
   "execution_count": null,
   "id": "07830d5e",
   "metadata": {},
   "outputs": [],
   "source": [
    "#8.5传递任意数量的实参\n",
    "#使用*封装，比如 def send_msg(*gather_things) - 不管受到几个值都可以处理\n",
    "#注意如果要让函数接受不同类型的实参，必须在函数定义中将接纳任意数量实参的形参【放在最后】。\n",
    "#比如def send_msg(size，*gather_things)\n",
    "#你经常会看到通用形参名*args，它也收集任意数量的位置实参。"
   ]
  },
  {
   "cell_type": "code",
   "execution_count": null,
   "id": "c260222a",
   "metadata": {},
   "outputs": [],
   "source": [
    "#两个星号建立空字典\n",
    "#你经常会看到形参名**kwargs，它用于收集任意数量的关键字实参。\n",
    "def build_profile(first,last,**info): #双asterisks表示info字典\n",
    "    info['first_name'] = first.title()\n",
    "    info['last_name'] = last.title()\n",
    "    return info\n",
    "\n",
    "lolo = build_profile('lorenzo','han',interest='weightlifting',gender = 'f')\n",
    "print(lolo)"
   ]
  },
  {
   "cell_type": "code",
   "execution_count": null,
   "id": "c83919cf",
   "metadata": {},
   "outputs": [],
   "source": [
    "#8-12\n",
    "def ingrediant(*items):\n",
    "    print(\"\\nHere are the following ingredients in your sandwich:\")\n",
    "    for v in items:\n",
    "        print(f\" - {v.title()}\")\n",
    "\n",
    "ingrediant('beef','cheese')\n",
    "ingrediant('pepper')\n",
    "ingrediant('garlic','fish','olive')"
   ]
  },
  {
   "cell_type": "code",
   "execution_count": null,
   "id": "e4f4479f",
   "metadata": {},
   "outputs": [],
   "source": [
    "#8-13\n",
    "def build_profile(first,last,**info): \n",
    "    info['first_name'] = first.title()\n",
    "    info['last_name'] = last.title()\n",
    "    return info\n",
    "\n",
    "lolo = build_profile('lorenzo','han',interest='weightlifting',gender = 'f',status = 'missing Fei')\n",
    "print(lolo)"
   ]
  },
  {
   "cell_type": "code",
   "execution_count": null,
   "id": "ce923e99",
   "metadata": {},
   "outputs": [],
   "source": [
    "#8-14\n",
    "def make_car(manufacture,model,**info):\n",
    "    info['Manufacturer'] = manufacture.title()\n",
    "    info['Model'] = model.title()\n",
    "    return info\n",
    "\n",
    "mine = make_car('Benz','Maybach',Year = 2023,Instalments = False)\n",
    "print(mine)"
   ]
  },
  {
   "cell_type": "code",
   "execution_count": null,
   "id": "15dc23b0",
   "metadata": {},
   "outputs": [],
   "source": [
    "#8.6\n",
    "#导入整个模块 - import 模块名 > 调用module_name.function_name()\n",
    "#导入特定的函数 - from module_name import function_1,function_2 > 调用function_name()"
   ]
  },
  {
   "cell_type": "code",
   "execution_count": null,
   "id": "1f2e6e68",
   "metadata": {},
   "outputs": [],
   "source": []
  },
  {
   "cell_type": "code",
   "execution_count": null,
   "id": "f0e0303f",
   "metadata": {},
   "outputs": [],
   "source": []
  }
 ],
 "metadata": {
  "kernelspec": {
   "display_name": "Python 3 (ipykernel)",
   "language": "python",
   "name": "python3"
  },
  "language_info": {
   "codemirror_mode": {
    "name": "ipython",
    "version": 3
   },
   "file_extension": ".py",
   "mimetype": "text/x-python",
   "name": "python",
   "nbconvert_exporter": "python",
   "pygments_lexer": "ipython3",
   "version": "3.10.1"
  }
 },
 "nbformat": 4,
 "nbformat_minor": 5
}
